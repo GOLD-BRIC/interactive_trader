{
 "cells": [
  {
   "cell_type": "code",
   "execution_count": 56,
   "metadata": {},
   "outputs": [],
   "source": [
    "import os\n",
    "import pandas as pd\n",
    "import numpy as np\n",
    "from pandas.tseries.offsets import BDay\n",
    "\n",
    "PERIOD = 3\n",
    "LOT = 25000\n",
    "GAIN_CAP = 0.1\n",
    "INCLUDE_RISK_FREE = True\n",
    "HOLDING_PERIOD_CAP = 5  #business days\n",
    "#Trip = ENTRY,EXIT\n",
    "#Action = BUY,SELL\n",
    "#Status = FILLED, PENDING, CANCELED, FORCED\n",
    "blotter = pd.DataFrame(\n",
    "    columns=['Date', 'Symbol', 'Trip', 'Action', 'Price', 'Size', 'Status'])"
   ]
  },
  {
   "cell_type": "markdown",
   "metadata": {
    "pycharm": {
     "name": "#%% md\n"
    }
   },
   "source": [
    "# Historical Market Data"
   ]
  },
  {
   "cell_type": "code",
   "execution_count": 57,
   "metadata": {
    "pycharm": {
     "name": "#%%\n"
    }
   },
   "outputs": [],
   "source": [
    "file_path = os.getenv(\"ITA_DATA_PATH\")\n",
    "risk_free_path = os.getenv(\"RISK_FREE_DATA_PATH\")\n",
    "hist = pd.read_csv(f'{file_path}\\data.csv', parse_dates=True, index_col='Date')\n",
    "risk_free_hist = pd.read_csv(f\"{risk_free_path}\\\\risk_free.csv\", parse_dates=True, index_col='Date')\n",
    "\n",
    "risk_free_hist['interest_rate'] = risk_free_hist['interest_rate'] / 100\n",
    "hist = hist.iloc[::-1]\n",
    "hist['log_ret_AMZN'] = np.log(hist['amzn_Close']) - np.log(hist['amzn_Close'].shift(1))\n",
    "hist['log_ret_WMT'] = np.log(hist['wmt_Close']) - np.log(hist['wmt_Close'].shift(1))\n",
    "hist['corr_coef'] = hist['amzn_Close'].rolling(PERIOD).corr(hist['wmt_Close'])\n",
    "hist = hist.merge(risk_free_hist, how='left', on='Date')"
   ]
  },
  {
   "cell_type": "markdown",
   "metadata": {
    "pycharm": {
     "name": "#%% md\n"
    }
   },
   "source": [
    "# Get Position Direction"
   ]
  },
  {
   "cell_type": "code",
   "execution_count": 58,
   "metadata": {
    "pycharm": {
     "name": "#%%\n"
    }
   },
   "outputs": [],
   "source": [
    "# This is another logic to decide if we should go long or short\n",
    "# It's only based on the number of negative returns in a period of time (no tie-breaker)\n",
    "def get_position_direction(slice_hist):\n",
    "    amzn_neg_count = np.sum((slice_hist['log_ret_AMZN'].values < 0))\n",
    "    wmt_neg_count = np.sum((slice_hist['log_ret_WMT'].values < 0))\n",
    "    amzn_direction = 'BUY' if (amzn_neg_count >= wmt_neg_count) else 'SELL'\n",
    "    wmt_direction = 'SELL' if (amzn_direction == 'BUY') else 'BUY'\n",
    "    return {'AMZN': amzn_direction, 'WMT': wmt_direction}"
   ]
  },
  {
   "cell_type": "code",
   "execution_count": 59,
   "metadata": {
    "pycharm": {
     "name": "#%%\n"
    }
   },
   "outputs": [],
   "source": [
    "# This logic decides if we should go long or short\n",
    "# It's based on the volume of stocks that had negative returns (it's tie-breaker)\n",
    "def get_position_direction2(slice_hist):\n",
    "    amzn_total_volume = slice_hist['amzn_Volume'].sum()\n",
    "    amz_negative_volume = np.where(slice_hist['log_ret_AMZN'] < 0, slice_hist['amzn_Volume'], 0).sum()\n",
    "    amz_negative_pct = amz_negative_volume / amzn_total_volume\n",
    "\n",
    "    wmt_total_volume = slice_hist['wmt_Volume'].sum()\n",
    "    wmt_negative_volume = np.where(slice_hist['log_ret_WMT'] < 0, slice_hist['wmt_Volume'], 0).sum()\n",
    "    wmt_negative_pct = wmt_negative_volume / wmt_total_volume\n",
    "\n",
    "    amzn_direction = 'BUY' if (amz_negative_pct >= wmt_negative_pct) else 'SELL'\n",
    "    wmt_direction = 'SELL' if (amzn_direction == 'BUY') else 'BUY'\n",
    "\n",
    "    return {'AMZN': amzn_direction, 'WMT': wmt_direction}"
   ]
  },
  {
   "cell_type": "markdown",
   "metadata": {
    "pycharm": {
     "name": "#%% md\n"
    }
   },
   "source": [
    "# Create Entry Trades"
   ]
  },
  {
   "cell_type": "code",
   "execution_count": 60,
   "metadata": {
    "pycharm": {
     "name": "#%%\n"
    }
   },
   "outputs": [],
   "source": [
    "def create_entry_trades(biz_date):\n",
    "    from_date = biz_date - BDay(PERIOD - 1)\n",
    "    to_date = biz_date\n",
    "    slice_hist = hist.loc[from_date: to_date, :]\n",
    "\n",
    "    trade_date = hist[hist.index > biz_date].index[0]  #get next date\n",
    "    pos_direction = get_position_direction2(slice_hist)\n",
    "    amzn_open_price = hist.loc[trade_date]['amzn_Open']\n",
    "    amzn_size = LOT / amzn_open_price\n",
    "    wmt_open_price = hist.loc[trade_date]['wmt_Open']\n",
    "    wmt_size = LOT / wmt_open_price\n",
    "\n",
    "    amzn_entry_trade = {\n",
    "        \"Date\": trade_date,\n",
    "        \"Symbol\": 'AMZN',\n",
    "        \"Trip\": 'ENTRY',\n",
    "        \"Action\": pos_direction['AMZN'],\n",
    "        \"Price\": amzn_open_price,\n",
    "        \"Size\": round(amzn_size, 4),  #rounding based on IB's minimum fractional size\n",
    "        \"Status\": 'FILLED'\n",
    "    }\n",
    "    wmt_entry_trade = {\n",
    "        \"Date\": trade_date,\n",
    "        \"Symbol\": 'WMT',\n",
    "        \"Trip\": 'ENTRY',\n",
    "        \"Action\": pos_direction['WMT'],\n",
    "        \"Price\": wmt_open_price,\n",
    "        \"Size\": round(wmt_size, 4),\n",
    "        \"Status\": 'FILLED'\n",
    "    }\n",
    "    return pd.DataFrame([amzn_entry_trade, wmt_entry_trade])"
   ]
  },
  {
   "cell_type": "markdown",
   "metadata": {
    "pycharm": {
     "name": "#%% md\n"
    }
   },
   "source": [
    "# Create Exit Trades"
   ]
  },
  {
   "cell_type": "code",
   "execution_count": 61,
   "metadata": {
    "pycharm": {
     "name": "#%%\n"
    }
   },
   "outputs": [],
   "source": [
    "#The exit trades are LMT orders created right after entry trades with \"Date\" as the expiration date\n",
    "def create_exit_trade(entry_trades_lcl, symbol):\n",
    "    entry_data = entry_trades_lcl[entry_trades['Symbol'] == symbol].reset_index()\n",
    "    entry_date = entry_data.at[0, 'Date']\n",
    "    exit_date = entry_date + BDay(HOLDING_PERIOD_CAP)\n",
    "\n",
    "    entry_action = entry_data.at[0, 'Action']\n",
    "    exit_action = 'SELL' if entry_action == 'BUY' else 'BUY'\n",
    "\n",
    "    entry_price = entry_data.at[0, 'Price']\n",
    "    exit_price = None\n",
    "    risk_free = hist.loc[entry_date]['interest_rate']\n",
    "    if exit_action == 'SELL':\n",
    "        exit_price = entry_price * (1 + GAIN_CAP + risk_free) if INCLUDE_RISK_FREE else  entry_price * (1 + GAIN_CAP)\n",
    "    else:\n",
    "        exit_price = entry_price * (1 - GAIN_CAP - risk_free) if INCLUDE_RISK_FREE else entry_price * (1 - GAIN_CAP)\n",
    "\n",
    "    exit_size = entry_data.at[0, 'Size']\n",
    "\n",
    "    return {\n",
    "        \"Date\": exit_date,\n",
    "        \"Symbol\": symbol,\n",
    "        \"Trip\": 'EXIT',\n",
    "        \"Action\": exit_action,\n",
    "        \"Price\": round(exit_price, 2),\n",
    "        \"Size\": exit_size,\n",
    "        \"Status\": 'PENDING'\n",
    "    }"
   ]
  },
  {
   "cell_type": "code",
   "execution_count": 62,
   "metadata": {
    "pycharm": {
     "name": "#%%\n"
    }
   },
   "outputs": [],
   "source": [
    "def create_exit_trades(entry_trades_lcl):\n",
    "    amzn_exit_trade = create_exit_trade(entry_trades_lcl, 'AMZN')\n",
    "    wmt_exit_trade = create_exit_trade(entry_trades_lcl, 'WMT')\n",
    "    return pd.DataFrame([amzn_exit_trade, wmt_exit_trade])"
   ]
  },
  {
   "cell_type": "code",
   "execution_count": 63,
   "metadata": {
    "pycharm": {
     "name": "#%%\n"
    }
   },
   "outputs": [],
   "source": [
    "# The forced trades are MKT orders created when the exit trades are not filled within the holding period cap.\n",
    "# It uses the Close Price of the next day following the exit trade's date\n",
    "def create_forced_trade(biz_date, symbol, action, size, market_data):\n",
    "    column_prefix = symbol.lower()\n",
    "    close_price_column_name = f\"{column_prefix}_Close\"\n",
    "    return {\n",
    "        \"Date\": biz_date,\n",
    "        \"Symbol\": symbol,\n",
    "        \"Trip\": 'EXIT',\n",
    "        \"Action\": action,\n",
    "        \"Price\": market_data[close_price_column_name],\n",
    "        \"Size\": size,\n",
    "        \"Status\": 'FORCED'\n",
    "    }"
   ]
  },
  {
   "cell_type": "code",
   "execution_count": 64,
   "metadata": {
    "pycharm": {
     "name": "#%%\n"
    }
   },
   "outputs": [],
   "source": [
    "def should_force_close_position(position, biz_date):\n",
    "    if position['Date'] < biz_date:\n",
    "        return True"
   ]
  },
  {
   "cell_type": "code",
   "execution_count": 65,
   "metadata": {
    "pycharm": {
     "name": "#%%\n"
    }
   },
   "outputs": [],
   "source": [
    "def should_close_position(position, biz_date):\n",
    "    column_prefix = position['Symbol'].lower()\n",
    "    high_price_column_name = f\"{column_prefix}_High\"\n",
    "    low_price_column_name = f\"{column_prefix}_Low\"\n",
    "    if position['Action'] == 'SELL' and hist.loc[biz_date][high_price_column_name] >= position['Price']:\n",
    "        return True\n",
    "    if position['Action'] == 'BUY' and hist.loc[biz_date][low_price_column_name] <= position['Price']:\n",
    "        return True\n",
    "    return False"
   ]
  },
  {
   "cell_type": "markdown",
   "metadata": {
    "pycharm": {
     "name": "#%% md\n"
    }
   },
   "source": [
    "# Run Back Test"
   ]
  },
  {
   "cell_type": "code",
   "execution_count": 66,
   "metadata": {
    "pycharm": {
     "name": "#%%\n"
    }
   },
   "outputs": [],
   "source": [
    "for index, today_market_data in hist.iterrows():\n",
    "    business_date = index\n",
    "    pending_exit_trades = blotter[(blotter['Trip'] == 'EXIT') & (blotter['Status'] == 'PENDING')]\n",
    "    current_position_status = 'CLOSED' if  pending_exit_trades.empty else 'OPEN'\n",
    "\n",
    "    if current_position_status == 'CLOSED' and today_market_data['corr_coef'] < 0:\n",
    "        entry_trades = create_entry_trades(business_date)\n",
    "        blotter = pd.concat([blotter, entry_trades], ignore_index=True)\n",
    "\n",
    "        exit_trades = create_exit_trades(entry_trades)\n",
    "        blotter = pd.concat([blotter, exit_trades], ignore_index=True)\n",
    "    elif current_position_status == 'OPEN':\n",
    "        for i, pending_trade in pending_exit_trades.iterrows():\n",
    "            if should_force_close_position(pending_trade, business_date):\n",
    "                blotter.at[i, 'Status'] = 'CANCELED'\n",
    "                forced_trade = create_forced_trade(business_date,\n",
    "                                                   pending_trade['Symbol'],\n",
    "                                                   pending_trade['Action'],\n",
    "                                                   pending_trade['Size'],\n",
    "                                                   today_market_data)\n",
    "                blotter = pd.concat([blotter, pd.DataFrame([forced_trade])], ignore_index=True)\n",
    "            elif should_close_position(pending_trade, business_date):\n",
    "                blotter.at[i, 'Status'] = 'FILLED'"
   ]
  },
  {
   "cell_type": "markdown",
   "metadata": {
    "pycharm": {
     "name": "#%% md\n"
    }
   },
   "source": [
    "# Result & Stats"
   ]
  },
  {
   "cell_type": "code",
   "execution_count": 67,
   "metadata": {
    "pycharm": {
     "name": "#%%\n"
    }
   },
   "outputs": [
    {
     "data": {
      "text/plain": "                    Date Symbol   Trip Action    Price      Size    Status\n0    2017-01-09 00:00:00   AMZN  ENTRY   SELL    798.0   31.3283    FILLED\n1    2017-01-09 00:00:00    WMT  ENTRY    BUY    68.33  365.8715    FILLED\n2    2017-01-16 00:00:00   AMZN   EXIT    BUY   711.77   31.3283  CANCELED\n3    2017-01-16 00:00:00    WMT   EXIT   SELL    75.71  365.8715  CANCELED\n4    2017-01-17 00:00:00   AMZN   EXIT    BUY   809.72   31.3283    FORCED\n..                   ...    ...    ...    ...      ...       ...       ...\n780  2022-03-31 00:00:00    WMT  ENTRY   SELL   148.79   168.022    FILLED\n781  2022-04-07 00:00:00   AMZN   EXIT   SELL  3716.05      7.51  CANCELED\n782  2022-04-07 00:00:00    WMT   EXIT    BUY   131.49   168.022  CANCELED\n783  2022-04-08 00:00:00   AMZN   EXIT   SELL  3089.21      7.51    FORCED\n784  2022-04-08 00:00:00    WMT   EXIT    BUY   157.41   168.022    FORCED\n\n[785 rows x 7 columns]",
      "text/html": "<div>\n<style scoped>\n    .dataframe tbody tr th:only-of-type {\n        vertical-align: middle;\n    }\n\n    .dataframe tbody tr th {\n        vertical-align: top;\n    }\n\n    .dataframe thead th {\n        text-align: right;\n    }\n</style>\n<table border=\"1\" class=\"dataframe\">\n  <thead>\n    <tr style=\"text-align: right;\">\n      <th></th>\n      <th>Date</th>\n      <th>Symbol</th>\n      <th>Trip</th>\n      <th>Action</th>\n      <th>Price</th>\n      <th>Size</th>\n      <th>Status</th>\n    </tr>\n  </thead>\n  <tbody>\n    <tr>\n      <th>0</th>\n      <td>2017-01-09 00:00:00</td>\n      <td>AMZN</td>\n      <td>ENTRY</td>\n      <td>SELL</td>\n      <td>798.0</td>\n      <td>31.3283</td>\n      <td>FILLED</td>\n    </tr>\n    <tr>\n      <th>1</th>\n      <td>2017-01-09 00:00:00</td>\n      <td>WMT</td>\n      <td>ENTRY</td>\n      <td>BUY</td>\n      <td>68.33</td>\n      <td>365.8715</td>\n      <td>FILLED</td>\n    </tr>\n    <tr>\n      <th>2</th>\n      <td>2017-01-16 00:00:00</td>\n      <td>AMZN</td>\n      <td>EXIT</td>\n      <td>BUY</td>\n      <td>711.77</td>\n      <td>31.3283</td>\n      <td>CANCELED</td>\n    </tr>\n    <tr>\n      <th>3</th>\n      <td>2017-01-16 00:00:00</td>\n      <td>WMT</td>\n      <td>EXIT</td>\n      <td>SELL</td>\n      <td>75.71</td>\n      <td>365.8715</td>\n      <td>CANCELED</td>\n    </tr>\n    <tr>\n      <th>4</th>\n      <td>2017-01-17 00:00:00</td>\n      <td>AMZN</td>\n      <td>EXIT</td>\n      <td>BUY</td>\n      <td>809.72</td>\n      <td>31.3283</td>\n      <td>FORCED</td>\n    </tr>\n    <tr>\n      <th>...</th>\n      <td>...</td>\n      <td>...</td>\n      <td>...</td>\n      <td>...</td>\n      <td>...</td>\n      <td>...</td>\n      <td>...</td>\n    </tr>\n    <tr>\n      <th>780</th>\n      <td>2022-03-31 00:00:00</td>\n      <td>WMT</td>\n      <td>ENTRY</td>\n      <td>SELL</td>\n      <td>148.79</td>\n      <td>168.022</td>\n      <td>FILLED</td>\n    </tr>\n    <tr>\n      <th>781</th>\n      <td>2022-04-07 00:00:00</td>\n      <td>AMZN</td>\n      <td>EXIT</td>\n      <td>SELL</td>\n      <td>3716.05</td>\n      <td>7.51</td>\n      <td>CANCELED</td>\n    </tr>\n    <tr>\n      <th>782</th>\n      <td>2022-04-07 00:00:00</td>\n      <td>WMT</td>\n      <td>EXIT</td>\n      <td>BUY</td>\n      <td>131.49</td>\n      <td>168.022</td>\n      <td>CANCELED</td>\n    </tr>\n    <tr>\n      <th>783</th>\n      <td>2022-04-08 00:00:00</td>\n      <td>AMZN</td>\n      <td>EXIT</td>\n      <td>SELL</td>\n      <td>3089.21</td>\n      <td>7.51</td>\n      <td>FORCED</td>\n    </tr>\n    <tr>\n      <th>784</th>\n      <td>2022-04-08 00:00:00</td>\n      <td>WMT</td>\n      <td>EXIT</td>\n      <td>BUY</td>\n      <td>157.41</td>\n      <td>168.022</td>\n      <td>FORCED</td>\n    </tr>\n  </tbody>\n</table>\n<p>785 rows × 7 columns</p>\n</div>"
     },
     "execution_count": 67,
     "metadata": {},
     "output_type": "execute_result"
    }
   ],
   "source": [
    "blotter"
   ]
  },
  {
   "cell_type": "code",
   "execution_count": 68,
   "metadata": {
    "pycharm": {
     "name": "#%%\n"
    }
   },
   "outputs": [
    {
     "name": "stdout",
     "output_type": "stream",
     "text": [
      "Entry Orders: 264\n",
      "Filled Exit Orders: 7\n",
      "Forced Exit Orders: 257\n",
      "\n",
      "******  AMZN  ******\n",
      "Total Sales: $3,319,218.3\n",
      "Total Purchases: $3,301,902.75\n",
      "Gain or Loss: $17,315.55\n",
      "\n",
      "******  WMT  ******\n",
      "Total Sales: $3,308,829.18\n",
      "Total Purchases: $3,303,183.97\n",
      "Gain or Loss: $5,645.21\n",
      "\n",
      "Years: 5.29\n",
      "Total Gain or Loss: $22,960.76\n",
      "Total Gain or Loss Per Year: $4,340.41\n"
     ]
    }
   ],
   "source": [
    "def calculate_gain_loss(symbol):\n",
    "    results = blotter[(blotter['Status'] != 'CANCELED') & (blotter['Symbol'] == symbol)].copy()\n",
    "    results['Total_Price'] = results['Price'] * results['Size']\n",
    "    sells = results[results['Action'] == 'SELL'].copy()\n",
    "    buys = results[results['Action'] == 'BUY'].copy()\n",
    "\n",
    "    total_sales = sells['Total_Price'].sum()\n",
    "    total_purchases = buys['Total_Price'].sum()\n",
    "    gain_loss = total_sales - total_purchases\n",
    "\n",
    "    print(f\"\\n******  {symbol}  ******\")\n",
    "    print(f'Total Sales: ${round(total_sales, 2):,}')\n",
    "    print(f'Total Purchases: ${round(total_purchases, 2):,}')\n",
    "    print(f'Gain or Loss: ${round(gain_loss, 2):,}')\n",
    "    return gain_loss\n",
    "\n",
    "\n",
    "print(f\"Entry Orders: {blotter[(blotter['Trip'] == 'ENTRY') & (blotter['Status'] == 'FILLED')].shape[0]}\")\n",
    "print(f\"Filled Exit Orders: {blotter[(blotter['Trip'] == 'EXIT') & (blotter['Status'] == 'FILLED')].shape[0]}\")\n",
    "print(f\"Forced Exit Orders: {blotter[(blotter['Trip'] == 'EXIT') & (blotter['Status'] == 'FORCED')].shape[0]}\")\n",
    "amz_gain_loss = calculate_gain_loss('AMZN')\n",
    "wmt_gain_loss = calculate_gain_loss('WMT')\n",
    "total_gain_loss = amz_gain_loss + wmt_gain_loss\n",
    "time_period = hist.last_valid_index() - hist.first_valid_index()\n",
    "years = round(time_period.days / 365.2425, 2)\n",
    "total_gain_loss_per_year = total_gain_loss / years\n",
    "print(f\"\\nYears: {years}\")\n",
    "print(f'Total Gain or Loss: ${round(total_gain_loss, 2):,}')\n",
    "print(f\"Total Gain or Loss Per Year: ${round(total_gain_loss_per_year, 2):,}\")"
   ]
  }
 ],
 "metadata": {
  "kernelspec": {
   "display_name": "Python 3 (ipykernel)",
   "language": "python",
   "name": "python3"
  },
  "language_info": {
   "codemirror_mode": {
    "name": "ipython",
    "version": 3
   },
   "file_extension": ".py",
   "mimetype": "text/x-python",
   "name": "python",
   "nbconvert_exporter": "python",
   "pygments_lexer": "ipython3",
   "version": "3.9.10"
  }
 },
 "nbformat": 4,
 "nbformat_minor": 1
}