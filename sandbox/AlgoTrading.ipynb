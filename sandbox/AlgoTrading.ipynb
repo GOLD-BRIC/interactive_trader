{
 "cells": [
  {
   "cell_type": "code",
   "execution_count": 131,
   "metadata": {
    "collapsed": true
   },
   "outputs": [],
   "source": [
    "import json\n",
    "import yfinance as yf\n",
    "import pandas as pd\n",
    "import numpy as np\n",
    "from pandas.tseries.offsets import BDay"
   ]
  },
  {
   "cell_type": "code",
   "execution_count": 62,
   "outputs": [
    {
     "data": {
      "text/plain": "                   Open         High          Low        Close   Volume  \\\nDate                                                                      \n2017-04-20   899.700012   905.320007   896.289978   902.059998  2814400   \n2017-04-21   902.669983   903.650024   896.770020   898.530029  2420500   \n2017-04-24   908.679993   909.989990   903.820007   907.409973  3122900   \n2017-04-25   907.039978   909.479980   903.000000   907.619995  3380600   \n2017-04-26   910.299988   915.750000   907.559998   909.289978  2608900   \n...                 ...          ...          ...          ...      ...   \n2022-04-12  3073.850098  3101.979980  3007.659912  3015.750000  2758900   \n2022-04-13  3000.370117  3120.500000  2992.000000  3110.820068  2669500   \n2022-04-14  3107.800049  3117.939941  3029.439941  3034.129883  2575200   \n2022-04-18  3030.469971  3080.790039  3005.010010  3055.699951  2325700   \n2022-04-19  3040.590088  3172.979980  3031.010010  3162.310059  2734800   \n\n            Dividends  Stock Splits  \nDate                                 \n2017-04-20          0             0  \n2017-04-21          0             0  \n2017-04-24          0             0  \n2017-04-25          0             0  \n2017-04-26          0             0  \n...               ...           ...  \n2022-04-12          0             0  \n2022-04-13          0             0  \n2022-04-14          0             0  \n2022-04-18          0             0  \n2022-04-19          0             0  \n\n[1259 rows x 7 columns]",
      "text/html": "<div>\n<style scoped>\n    .dataframe tbody tr th:only-of-type {\n        vertical-align: middle;\n    }\n\n    .dataframe tbody tr th {\n        vertical-align: top;\n    }\n\n    .dataframe thead th {\n        text-align: right;\n    }\n</style>\n<table border=\"1\" class=\"dataframe\">\n  <thead>\n    <tr style=\"text-align: right;\">\n      <th></th>\n      <th>Open</th>\n      <th>High</th>\n      <th>Low</th>\n      <th>Close</th>\n      <th>Volume</th>\n      <th>Dividends</th>\n      <th>Stock Splits</th>\n    </tr>\n    <tr>\n      <th>Date</th>\n      <th></th>\n      <th></th>\n      <th></th>\n      <th></th>\n      <th></th>\n      <th></th>\n      <th></th>\n    </tr>\n  </thead>\n  <tbody>\n    <tr>\n      <th>2017-04-20</th>\n      <td>899.700012</td>\n      <td>905.320007</td>\n      <td>896.289978</td>\n      <td>902.059998</td>\n      <td>2814400</td>\n      <td>0</td>\n      <td>0</td>\n    </tr>\n    <tr>\n      <th>2017-04-21</th>\n      <td>902.669983</td>\n      <td>903.650024</td>\n      <td>896.770020</td>\n      <td>898.530029</td>\n      <td>2420500</td>\n      <td>0</td>\n      <td>0</td>\n    </tr>\n    <tr>\n      <th>2017-04-24</th>\n      <td>908.679993</td>\n      <td>909.989990</td>\n      <td>903.820007</td>\n      <td>907.409973</td>\n      <td>3122900</td>\n      <td>0</td>\n      <td>0</td>\n    </tr>\n    <tr>\n      <th>2017-04-25</th>\n      <td>907.039978</td>\n      <td>909.479980</td>\n      <td>903.000000</td>\n      <td>907.619995</td>\n      <td>3380600</td>\n      <td>0</td>\n      <td>0</td>\n    </tr>\n    <tr>\n      <th>2017-04-26</th>\n      <td>910.299988</td>\n      <td>915.750000</td>\n      <td>907.559998</td>\n      <td>909.289978</td>\n      <td>2608900</td>\n      <td>0</td>\n      <td>0</td>\n    </tr>\n    <tr>\n      <th>...</th>\n      <td>...</td>\n      <td>...</td>\n      <td>...</td>\n      <td>...</td>\n      <td>...</td>\n      <td>...</td>\n      <td>...</td>\n    </tr>\n    <tr>\n      <th>2022-04-12</th>\n      <td>3073.850098</td>\n      <td>3101.979980</td>\n      <td>3007.659912</td>\n      <td>3015.750000</td>\n      <td>2758900</td>\n      <td>0</td>\n      <td>0</td>\n    </tr>\n    <tr>\n      <th>2022-04-13</th>\n      <td>3000.370117</td>\n      <td>3120.500000</td>\n      <td>2992.000000</td>\n      <td>3110.820068</td>\n      <td>2669500</td>\n      <td>0</td>\n      <td>0</td>\n    </tr>\n    <tr>\n      <th>2022-04-14</th>\n      <td>3107.800049</td>\n      <td>3117.939941</td>\n      <td>3029.439941</td>\n      <td>3034.129883</td>\n      <td>2575200</td>\n      <td>0</td>\n      <td>0</td>\n    </tr>\n    <tr>\n      <th>2022-04-18</th>\n      <td>3030.469971</td>\n      <td>3080.790039</td>\n      <td>3005.010010</td>\n      <td>3055.699951</td>\n      <td>2325700</td>\n      <td>0</td>\n      <td>0</td>\n    </tr>\n    <tr>\n      <th>2022-04-19</th>\n      <td>3040.590088</td>\n      <td>3172.979980</td>\n      <td>3031.010010</td>\n      <td>3162.310059</td>\n      <td>2734800</td>\n      <td>0</td>\n      <td>0</td>\n    </tr>\n  </tbody>\n</table>\n<p>1259 rows × 7 columns</p>\n</div>"
     },
     "execution_count": 62,
     "metadata": {},
     "output_type": "execute_result"
    }
   ],
   "source": [
    "amzn = yf.Ticker(\"AMZN\")\n",
    "amzn_hist = amzn.history(period=\"5y\", auto_adjust=True)\n",
    "amzn_hist = amzn_hist[['Close']]\n",
    "amzn_hist = amzn_hist.rename(columns={\"Close\": \"AMZN\"})\n",
    "amzn.history(period=\"5y\", auto_adjust=True)"
   ],
   "metadata": {
    "collapsed": false,
    "pycharm": {
     "name": "#%%\n"
    }
   }
  },
  {
   "cell_type": "code",
   "execution_count": 65,
   "outputs": [
    {
     "data": {
      "text/plain": "                  Open        High         Low       Close   Volume  \\\nDate                                                                  \n2017-04-20   67.225835   68.105375   67.198633   67.824287  7681300   \n2017-04-21   67.769880   68.105377   67.642937   67.951233  5755700   \n2017-04-24   68.078155   68.368312   67.479702   67.806129  7812500   \n2017-04-25   67.978439   68.159784   67.878696   68.050980  5720400   \n2017-04-26   68.250433   68.703804   68.159761   68.395515  6948500   \n...                ...         ...         ...         ...      ...   \n2022-04-12  154.240005  155.399994  152.550003  153.229996  8920400   \n2022-04-13  153.449997  157.789993  153.350006  157.220001  9761500   \n2022-04-14  157.110001  158.289993  156.429993  157.080002  7452300   \n2022-04-18  156.750000  157.979996  155.210007  155.880005  4890600   \n2022-04-19  156.669998  157.949997  156.039993  157.649994  5281200   \n\n            Dividends  Stock Splits  \nDate                                 \n2017-04-20        0.0             0  \n2017-04-21        0.0             0  \n2017-04-24        0.0             0  \n2017-04-25        0.0             0  \n2017-04-26        0.0             0  \n...               ...           ...  \n2022-04-12        0.0             0  \n2022-04-13        0.0             0  \n2022-04-14        0.0             0  \n2022-04-18        0.0             0  \n2022-04-19        0.0             0  \n\n[1259 rows x 7 columns]",
      "text/html": "<div>\n<style scoped>\n    .dataframe tbody tr th:only-of-type {\n        vertical-align: middle;\n    }\n\n    .dataframe tbody tr th {\n        vertical-align: top;\n    }\n\n    .dataframe thead th {\n        text-align: right;\n    }\n</style>\n<table border=\"1\" class=\"dataframe\">\n  <thead>\n    <tr style=\"text-align: right;\">\n      <th></th>\n      <th>Open</th>\n      <th>High</th>\n      <th>Low</th>\n      <th>Close</th>\n      <th>Volume</th>\n      <th>Dividends</th>\n      <th>Stock Splits</th>\n    </tr>\n    <tr>\n      <th>Date</th>\n      <th></th>\n      <th></th>\n      <th></th>\n      <th></th>\n      <th></th>\n      <th></th>\n      <th></th>\n    </tr>\n  </thead>\n  <tbody>\n    <tr>\n      <th>2017-04-20</th>\n      <td>67.225835</td>\n      <td>68.105375</td>\n      <td>67.198633</td>\n      <td>67.824287</td>\n      <td>7681300</td>\n      <td>0.0</td>\n      <td>0</td>\n    </tr>\n    <tr>\n      <th>2017-04-21</th>\n      <td>67.769880</td>\n      <td>68.105377</td>\n      <td>67.642937</td>\n      <td>67.951233</td>\n      <td>5755700</td>\n      <td>0.0</td>\n      <td>0</td>\n    </tr>\n    <tr>\n      <th>2017-04-24</th>\n      <td>68.078155</td>\n      <td>68.368312</td>\n      <td>67.479702</td>\n      <td>67.806129</td>\n      <td>7812500</td>\n      <td>0.0</td>\n      <td>0</td>\n    </tr>\n    <tr>\n      <th>2017-04-25</th>\n      <td>67.978439</td>\n      <td>68.159784</td>\n      <td>67.878696</td>\n      <td>68.050980</td>\n      <td>5720400</td>\n      <td>0.0</td>\n      <td>0</td>\n    </tr>\n    <tr>\n      <th>2017-04-26</th>\n      <td>68.250433</td>\n      <td>68.703804</td>\n      <td>68.159761</td>\n      <td>68.395515</td>\n      <td>6948500</td>\n      <td>0.0</td>\n      <td>0</td>\n    </tr>\n    <tr>\n      <th>...</th>\n      <td>...</td>\n      <td>...</td>\n      <td>...</td>\n      <td>...</td>\n      <td>...</td>\n      <td>...</td>\n      <td>...</td>\n    </tr>\n    <tr>\n      <th>2022-04-12</th>\n      <td>154.240005</td>\n      <td>155.399994</td>\n      <td>152.550003</td>\n      <td>153.229996</td>\n      <td>8920400</td>\n      <td>0.0</td>\n      <td>0</td>\n    </tr>\n    <tr>\n      <th>2022-04-13</th>\n      <td>153.449997</td>\n      <td>157.789993</td>\n      <td>153.350006</td>\n      <td>157.220001</td>\n      <td>9761500</td>\n      <td>0.0</td>\n      <td>0</td>\n    </tr>\n    <tr>\n      <th>2022-04-14</th>\n      <td>157.110001</td>\n      <td>158.289993</td>\n      <td>156.429993</td>\n      <td>157.080002</td>\n      <td>7452300</td>\n      <td>0.0</td>\n      <td>0</td>\n    </tr>\n    <tr>\n      <th>2022-04-18</th>\n      <td>156.750000</td>\n      <td>157.979996</td>\n      <td>155.210007</td>\n      <td>155.880005</td>\n      <td>4890600</td>\n      <td>0.0</td>\n      <td>0</td>\n    </tr>\n    <tr>\n      <th>2022-04-19</th>\n      <td>156.669998</td>\n      <td>157.949997</td>\n      <td>156.039993</td>\n      <td>157.649994</td>\n      <td>5281200</td>\n      <td>0.0</td>\n      <td>0</td>\n    </tr>\n  </tbody>\n</table>\n<p>1259 rows × 7 columns</p>\n</div>"
     },
     "execution_count": 65,
     "metadata": {},
     "output_type": "execute_result"
    }
   ],
   "source": [
    "wmt = yf.Ticker(\"WMT\")\n",
    "wmt_hist = wmt.history(period=\"5y\", auto_adjust=True)\n",
    "wmt_hist = wmt_hist[['Close']]\n",
    "wmt_hist = wmt_hist.rename(columns={\"Close\": \"WMT\"})\n",
    "wmt.history(period=\"5y\", auto_adjust=True)"
   ],
   "metadata": {
    "collapsed": false,
    "pycharm": {
     "name": "#%%\n"
    }
   }
  },
  {
   "cell_type": "code",
   "execution_count": 71,
   "outputs": [
    {
     "data": {
      "text/plain": "                   AMZN         WMT  log_ret_AMZN  log_ret_WMT\nDate                                                          \n2017-04-20   902.059998   67.824280           NaN          NaN\n2017-04-21   898.530029   67.951233     -0.003921     0.001870\n2017-04-24   907.409973   67.806129      0.009834    -0.002138\n2017-04-25   907.619995   68.050972      0.000231     0.003604\n2017-04-26   909.289978   68.395531      0.001838     0.005050\n...                 ...         ...           ...          ...\n2022-04-12  3015.750000  153.229996     -0.002216    -0.006894\n2022-04-13  3110.820068  157.220001      0.031038     0.025706\n2022-04-14  3034.129883  157.080002     -0.024962    -0.000891\n2022-04-18  3055.699951  155.880005      0.007084    -0.007669\n2022-04-19  3162.310059  157.649994      0.034294     0.011291\n\n[1259 rows x 4 columns]",
      "text/html": "<div>\n<style scoped>\n    .dataframe tbody tr th:only-of-type {\n        vertical-align: middle;\n    }\n\n    .dataframe tbody tr th {\n        vertical-align: top;\n    }\n\n    .dataframe thead th {\n        text-align: right;\n    }\n</style>\n<table border=\"1\" class=\"dataframe\">\n  <thead>\n    <tr style=\"text-align: right;\">\n      <th></th>\n      <th>AMZN</th>\n      <th>WMT</th>\n      <th>log_ret_AMZN</th>\n      <th>log_ret_WMT</th>\n    </tr>\n    <tr>\n      <th>Date</th>\n      <th></th>\n      <th></th>\n      <th></th>\n      <th></th>\n    </tr>\n  </thead>\n  <tbody>\n    <tr>\n      <th>2017-04-20</th>\n      <td>902.059998</td>\n      <td>67.824280</td>\n      <td>NaN</td>\n      <td>NaN</td>\n    </tr>\n    <tr>\n      <th>2017-04-21</th>\n      <td>898.530029</td>\n      <td>67.951233</td>\n      <td>-0.003921</td>\n      <td>0.001870</td>\n    </tr>\n    <tr>\n      <th>2017-04-24</th>\n      <td>907.409973</td>\n      <td>67.806129</td>\n      <td>0.009834</td>\n      <td>-0.002138</td>\n    </tr>\n    <tr>\n      <th>2017-04-25</th>\n      <td>907.619995</td>\n      <td>68.050972</td>\n      <td>0.000231</td>\n      <td>0.003604</td>\n    </tr>\n    <tr>\n      <th>2017-04-26</th>\n      <td>909.289978</td>\n      <td>68.395531</td>\n      <td>0.001838</td>\n      <td>0.005050</td>\n    </tr>\n    <tr>\n      <th>...</th>\n      <td>...</td>\n      <td>...</td>\n      <td>...</td>\n      <td>...</td>\n    </tr>\n    <tr>\n      <th>2022-04-12</th>\n      <td>3015.750000</td>\n      <td>153.229996</td>\n      <td>-0.002216</td>\n      <td>-0.006894</td>\n    </tr>\n    <tr>\n      <th>2022-04-13</th>\n      <td>3110.820068</td>\n      <td>157.220001</td>\n      <td>0.031038</td>\n      <td>0.025706</td>\n    </tr>\n    <tr>\n      <th>2022-04-14</th>\n      <td>3034.129883</td>\n      <td>157.080002</td>\n      <td>-0.024962</td>\n      <td>-0.000891</td>\n    </tr>\n    <tr>\n      <th>2022-04-18</th>\n      <td>3055.699951</td>\n      <td>155.880005</td>\n      <td>0.007084</td>\n      <td>-0.007669</td>\n    </tr>\n    <tr>\n      <th>2022-04-19</th>\n      <td>3162.310059</td>\n      <td>157.649994</td>\n      <td>0.034294</td>\n      <td>0.011291</td>\n    </tr>\n  </tbody>\n</table>\n<p>1259 rows × 4 columns</p>\n</div>"
     },
     "execution_count": 71,
     "metadata": {},
     "output_type": "execute_result"
    }
   ],
   "source": [
    "hist = amzn_hist.merge(wmt_hist, how='inner', on='Date')\n",
    "hist['log_ret_AMZN'] = np.log(hist['AMZN']) - np.log(hist['AMZN'].shift(1))\n",
    "hist['log_ret_WMT'] = np.log(hist['WMT']) - np.log(hist['WMT'].shift(1))\n",
    "hist"
   ],
   "metadata": {
    "collapsed": false,
    "pycharm": {
     "name": "#%%\n"
    }
   }
  },
  {
   "cell_type": "code",
   "execution_count": 78,
   "outputs": [
    {
     "data": {
      "text/plain": "            corr_coef\nDate                 \n2017-04-20        NaN\n2017-04-21        NaN\n2017-04-24        NaN\n2017-04-25        NaN\n2017-04-26   0.507221\n...               ...\n2022-04-12   0.554899\n2022-04-13   0.820890\n2022-04-14   0.774786\n2022-04-18   0.720575\n2022-04-19   0.717838\n\n[1259 rows x 1 columns]",
      "text/html": "<div>\n<style scoped>\n    .dataframe tbody tr th:only-of-type {\n        vertical-align: middle;\n    }\n\n    .dataframe tbody tr th {\n        vertical-align: top;\n    }\n\n    .dataframe thead th {\n        text-align: right;\n    }\n</style>\n<table border=\"1\" class=\"dataframe\">\n  <thead>\n    <tr style=\"text-align: right;\">\n      <th></th>\n      <th>corr_coef</th>\n    </tr>\n    <tr>\n      <th>Date</th>\n      <th></th>\n    </tr>\n  </thead>\n  <tbody>\n    <tr>\n      <th>2017-04-20</th>\n      <td>NaN</td>\n    </tr>\n    <tr>\n      <th>2017-04-21</th>\n      <td>NaN</td>\n    </tr>\n    <tr>\n      <th>2017-04-24</th>\n      <td>NaN</td>\n    </tr>\n    <tr>\n      <th>2017-04-25</th>\n      <td>NaN</td>\n    </tr>\n    <tr>\n      <th>2017-04-26</th>\n      <td>0.507221</td>\n    </tr>\n    <tr>\n      <th>...</th>\n      <td>...</td>\n    </tr>\n    <tr>\n      <th>2022-04-12</th>\n      <td>0.554899</td>\n    </tr>\n    <tr>\n      <th>2022-04-13</th>\n      <td>0.820890</td>\n    </tr>\n    <tr>\n      <th>2022-04-14</th>\n      <td>0.774786</td>\n    </tr>\n    <tr>\n      <th>2022-04-18</th>\n      <td>0.720575</td>\n    </tr>\n    <tr>\n      <th>2022-04-19</th>\n      <td>0.717838</td>\n    </tr>\n  </tbody>\n</table>\n<p>1259 rows × 1 columns</p>\n</div>"
     },
     "execution_count": 78,
     "metadata": {},
     "output_type": "execute_result"
    }
   ],
   "source": [
    "corr_hist = hist['AMZN'].rolling(5).corr(hist['WMT'])\n",
    "corr_hist = corr_hist.to_frame(name='corr_coef')\n",
    "corr_hist"
   ],
   "metadata": {
    "collapsed": false,
    "pycharm": {
     "name": "#%%\n"
    }
   }
  },
  {
   "cell_type": "markdown",
   "source": [
    "# Get Position Direction"
   ],
   "metadata": {
    "collapsed": false,
    "pycharm": {
     "name": "#%% md\n"
    }
   }
  },
  {
   "cell_type": "code",
   "execution_count": 109,
   "outputs": [],
   "source": [
    "def get_position_direction(log_returns):\n",
    "    amzn_neg_count = np.sum((log_returns['log_ret_AMZN'].values < 0))\n",
    "    wmt_neg_count = np.sum((log_returns['log_ret_WMT'].values < 0))\n",
    "    amzn_direction = 'LONG' if (amzn_neg_count >= wmt_neg_count) else 'SHORT'\n",
    "    wmt_direction = 'SHORT' if (amzn_direction == 'LONG') else 'LONG'\n",
    "    return {'AMZN': amzn_direction, 'WMT': wmt_direction}"
   ],
   "metadata": {
    "collapsed": false,
    "pycharm": {
     "name": "#%%\n"
    }
   }
  },
  {
   "cell_type": "markdown",
   "source": [
    "# Define Trade"
   ],
   "metadata": {
    "collapsed": false,
    "pycharm": {
     "name": "#%% md\n"
    }
   }
  },
  {
   "cell_type": "code",
   "execution_count": 137,
   "outputs": [
    {
     "name": "stdout",
     "output_type": "stream",
     "text": [
      "CLOSE\n",
      "            log_ret_AMZN  log_ret_WMT\n",
      "Date                                 \n",
      "2017-04-25      0.000231     0.003604\n",
      "2017-04-26      0.001838     0.005050\n",
      "2017-04-27      0.009947     0.000133\n",
      "2017-04-28      0.007172    -0.003453\n",
      "2017-05-01      0.024814     0.000665\n",
      "{'AMZN': 'SHORT', 'WMT': 'LONG', 'trade_date': Timestamp('2017-05-02 00:00:00')}\n"
     ]
    }
   ],
   "source": [
    "def define_trade(corr_hist):\n",
    "    current_pos_status = json.load(open('position_status.json'))['status']\n",
    "    print(current_pos_status)\n",
    "    for index, row in corr_hist.iterrows():\n",
    "        if row['corr_coef'] < 0 and current_pos_status == 'CLOSE':\n",
    "            from_date = index - BDay(4)\n",
    "            to_date = index\n",
    "            slice_hist = hist.loc[from_date: to_date, \"log_ret_AMZN\":\"log_ret_WMT\"]\n",
    "            print(slice_hist)\n",
    "            trade = get_position_direction(slice_hist)\n",
    "            trade['trade_date'] = index + BDay(1)\n",
    "            return trade\n",
    "print(define_trade(corr_hist))"
   ],
   "metadata": {
    "collapsed": false,
    "pycharm": {
     "name": "#%%\n"
    }
   }
  },
  {
   "cell_type": "markdown",
   "source": [
    "# Open Position"
   ],
   "metadata": {
    "collapsed": false,
    "pycharm": {
     "name": "#%% md\n"
    }
   }
  },
  {
   "cell_type": "code",
   "execution_count": 116,
   "outputs": [
    {
     "name": "stdout",
     "output_type": "stream",
     "text": [
      "            log_ret_AMZN  log_ret_WMT\n",
      "Date                                 \n",
      "2017-04-25      0.000231     0.003604\n",
      "2017-04-26      0.001838     0.005050\n",
      "2017-04-27      0.009947     0.000133\n",
      "2017-04-28      0.007172    -0.003453\n",
      "2017-05-01      0.024814     0.000665\n",
      "{'AMZN': 'SHORT', 'WMT': 'LONG', 'trade_date': Timestamp('2017-05-02 00:00:00')}\n"
     ]
    }
   ],
   "source": [
    "trade = define_trade(corr_hist)"
   ],
   "metadata": {
    "collapsed": false,
    "pycharm": {
     "name": "#%%\n"
    }
   }
  }
 ],
 "metadata": {
  "kernelspec": {
   "display_name": "Python 3",
   "language": "python",
   "name": "python3"
  },
  "language_info": {
   "codemirror_mode": {
    "name": "ipython",
    "version": 2
   },
   "file_extension": ".py",
   "mimetype": "text/x-python",
   "name": "python",
   "nbconvert_exporter": "python",
   "pygments_lexer": "ipython2",
   "version": "2.7.6"
  }
 },
 "nbformat": 4,
 "nbformat_minor": 0
}