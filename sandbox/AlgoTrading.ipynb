{
 "cells": [
  {
   "cell_type": "code",
   "execution_count": 2,
   "metadata": {
    "collapsed": true
   },
   "outputs": [],
   "source": [
    "import os\n",
    "import json\n",
    "import yfinance as yf\n",
    "import pandas as pd\n",
    "import numpy as np\n",
    "from pandas.tseries.offsets import BDay"
   ]
  },
  {
   "cell_type": "code",
   "execution_count": 3,
   "outputs": [
    {
     "data": {
      "text/plain": "           wmt_Open  wmt_High  wmt_Low  wmt_Close  wmt_Volume  amzn_Open  \\\nDate                                                                       \n4/19/2022    156.67    157.95   156.04     157.65     5284973    3040.59   \n4/18/2022    156.75    157.98   155.21     155.88     4890605    3030.47   \n4/14/2022    157.11    158.29   156.43     157.08     7453493    3107.80   \n4/13/2022    153.45    157.79   153.35     157.22     9761532    3000.37   \n4/12/2022    154.24    155.40   152.55     153.23     8920400    3073.85   \n...             ...       ...      ...        ...         ...        ...   \n1/9/2017      68.33     68.80    68.32      68.71     8685232     798.00   \n1/6/2017      68.41     68.50    68.01      68.26     9491115     782.36   \n1/5/2017      68.43     69.33    68.12      69.21     7099170     761.55   \n1/4/2017      68.66     69.63    68.60      69.06     7917952     758.39   \n1/3/2017      69.24     69.24    68.05      68.66    10473162     757.92   \n\n           amzn_High   amzn_Low  amzn_Close  amzn_Volume  \nDate                                                      \n4/19/2022  3172.9800  3031.0100     3162.31      2746321  \n4/18/2022  3080.7900  3005.0100     3055.70      2325676  \n4/14/2022  3117.9400  3029.4350     3034.13      2579907  \n4/13/2022  3120.5000  2992.0000     3110.82      2669544  \n4/12/2022  3101.9800  3007.6600     3015.75      2758872  \n...              ...        ...         ...          ...  \n1/9/2017    801.7742   791.7700      796.92      3446109  \n1/6/2017    799.4400   778.4800      795.99      5986234  \n1/5/2017    782.3999   760.2557      780.45      5830068  \n1/4/2017    759.6800   754.2000      757.18      2510526  \n1/3/2017    758.7595   747.7000      753.67      3521066  \n\n[1333 rows x 10 columns]",
      "text/html": "<div>\n<style scoped>\n    .dataframe tbody tr th:only-of-type {\n        vertical-align: middle;\n    }\n\n    .dataframe tbody tr th {\n        vertical-align: top;\n    }\n\n    .dataframe thead th {\n        text-align: right;\n    }\n</style>\n<table border=\"1\" class=\"dataframe\">\n  <thead>\n    <tr style=\"text-align: right;\">\n      <th></th>\n      <th>wmt_Open</th>\n      <th>wmt_High</th>\n      <th>wmt_Low</th>\n      <th>wmt_Close</th>\n      <th>wmt_Volume</th>\n      <th>amzn_Open</th>\n      <th>amzn_High</th>\n      <th>amzn_Low</th>\n      <th>amzn_Close</th>\n      <th>amzn_Volume</th>\n    </tr>\n    <tr>\n      <th>Date</th>\n      <th></th>\n      <th></th>\n      <th></th>\n      <th></th>\n      <th></th>\n      <th></th>\n      <th></th>\n      <th></th>\n      <th></th>\n      <th></th>\n    </tr>\n  </thead>\n  <tbody>\n    <tr>\n      <th>4/19/2022</th>\n      <td>156.67</td>\n      <td>157.95</td>\n      <td>156.04</td>\n      <td>157.65</td>\n      <td>5284973</td>\n      <td>3040.59</td>\n      <td>3172.9800</td>\n      <td>3031.0100</td>\n      <td>3162.31</td>\n      <td>2746321</td>\n    </tr>\n    <tr>\n      <th>4/18/2022</th>\n      <td>156.75</td>\n      <td>157.98</td>\n      <td>155.21</td>\n      <td>155.88</td>\n      <td>4890605</td>\n      <td>3030.47</td>\n      <td>3080.7900</td>\n      <td>3005.0100</td>\n      <td>3055.70</td>\n      <td>2325676</td>\n    </tr>\n    <tr>\n      <th>4/14/2022</th>\n      <td>157.11</td>\n      <td>158.29</td>\n      <td>156.43</td>\n      <td>157.08</td>\n      <td>7453493</td>\n      <td>3107.80</td>\n      <td>3117.9400</td>\n      <td>3029.4350</td>\n      <td>3034.13</td>\n      <td>2579907</td>\n    </tr>\n    <tr>\n      <th>4/13/2022</th>\n      <td>153.45</td>\n      <td>157.79</td>\n      <td>153.35</td>\n      <td>157.22</td>\n      <td>9761532</td>\n      <td>3000.37</td>\n      <td>3120.5000</td>\n      <td>2992.0000</td>\n      <td>3110.82</td>\n      <td>2669544</td>\n    </tr>\n    <tr>\n      <th>4/12/2022</th>\n      <td>154.24</td>\n      <td>155.40</td>\n      <td>152.55</td>\n      <td>153.23</td>\n      <td>8920400</td>\n      <td>3073.85</td>\n      <td>3101.9800</td>\n      <td>3007.6600</td>\n      <td>3015.75</td>\n      <td>2758872</td>\n    </tr>\n    <tr>\n      <th>...</th>\n      <td>...</td>\n      <td>...</td>\n      <td>...</td>\n      <td>...</td>\n      <td>...</td>\n      <td>...</td>\n      <td>...</td>\n      <td>...</td>\n      <td>...</td>\n      <td>...</td>\n    </tr>\n    <tr>\n      <th>1/9/2017</th>\n      <td>68.33</td>\n      <td>68.80</td>\n      <td>68.32</td>\n      <td>68.71</td>\n      <td>8685232</td>\n      <td>798.00</td>\n      <td>801.7742</td>\n      <td>791.7700</td>\n      <td>796.92</td>\n      <td>3446109</td>\n    </tr>\n    <tr>\n      <th>1/6/2017</th>\n      <td>68.41</td>\n      <td>68.50</td>\n      <td>68.01</td>\n      <td>68.26</td>\n      <td>9491115</td>\n      <td>782.36</td>\n      <td>799.4400</td>\n      <td>778.4800</td>\n      <td>795.99</td>\n      <td>5986234</td>\n    </tr>\n    <tr>\n      <th>1/5/2017</th>\n      <td>68.43</td>\n      <td>69.33</td>\n      <td>68.12</td>\n      <td>69.21</td>\n      <td>7099170</td>\n      <td>761.55</td>\n      <td>782.3999</td>\n      <td>760.2557</td>\n      <td>780.45</td>\n      <td>5830068</td>\n    </tr>\n    <tr>\n      <th>1/4/2017</th>\n      <td>68.66</td>\n      <td>69.63</td>\n      <td>68.60</td>\n      <td>69.06</td>\n      <td>7917952</td>\n      <td>758.39</td>\n      <td>759.6800</td>\n      <td>754.2000</td>\n      <td>757.18</td>\n      <td>2510526</td>\n    </tr>\n    <tr>\n      <th>1/3/2017</th>\n      <td>69.24</td>\n      <td>69.24</td>\n      <td>68.05</td>\n      <td>68.66</td>\n      <td>10473162</td>\n      <td>757.92</td>\n      <td>758.7595</td>\n      <td>747.7000</td>\n      <td>753.67</td>\n      <td>3521066</td>\n    </tr>\n  </tbody>\n</table>\n<p>1333 rows × 10 columns</p>\n</div>"
     },
     "execution_count": 3,
     "metadata": {},
     "output_type": "execute_result"
    }
   ],
   "source": [
    "file_path = os.getenv(\"ITA_DATA_PATH\")\n",
    "data = pd.read_csv(f'{file_path}\\data.csv', index_col='Date')\n",
    "data"
   ],
   "metadata": {
    "collapsed": false,
    "pycharm": {
     "name": "#%%\n"
    }
   }
  },
  {
   "cell_type": "code",
   "execution_count": 5,
   "outputs": [
    {
     "data": {
      "text/plain": "                   Open         High          Low        Close   Volume  \\\nDate                                                                      \n2017-04-21   902.669983   903.650024   896.770020   898.530029  2420500   \n2017-04-24   908.679993   909.989990   903.820007   907.409973  3122900   \n2017-04-25   907.039978   909.479980   903.000000   907.619995  3380600   \n2017-04-26   910.299988   915.750000   907.559998   909.289978  2608900   \n2017-04-27   914.390015   921.859985   912.109985   918.380005  5305500   \n...                 ...          ...          ...          ...      ...   \n2022-04-13  3000.370117  3120.500000  2992.000000  3110.820068  2669500   \n2022-04-14  3107.800049  3117.939941  3029.439941  3034.129883  2575200   \n2022-04-18  3030.469971  3080.790039  3005.010010  3055.699951  2325700   \n2022-04-19  3040.590088  3172.979980  3031.010010  3162.310059  2746300   \n2022-04-20  3152.050049  3152.050049  3072.070068  3079.959961  2977400   \n\n            Dividends  Stock Splits  \nDate                                 \n2017-04-21          0             0  \n2017-04-24          0             0  \n2017-04-25          0             0  \n2017-04-26          0             0  \n2017-04-27          0             0  \n...               ...           ...  \n2022-04-13          0             0  \n2022-04-14          0             0  \n2022-04-18          0             0  \n2022-04-19          0             0  \n2022-04-20          0             0  \n\n[1259 rows x 7 columns]",
      "text/html": "<div>\n<style scoped>\n    .dataframe tbody tr th:only-of-type {\n        vertical-align: middle;\n    }\n\n    .dataframe tbody tr th {\n        vertical-align: top;\n    }\n\n    .dataframe thead th {\n        text-align: right;\n    }\n</style>\n<table border=\"1\" class=\"dataframe\">\n  <thead>\n    <tr style=\"text-align: right;\">\n      <th></th>\n      <th>Open</th>\n      <th>High</th>\n      <th>Low</th>\n      <th>Close</th>\n      <th>Volume</th>\n      <th>Dividends</th>\n      <th>Stock Splits</th>\n    </tr>\n    <tr>\n      <th>Date</th>\n      <th></th>\n      <th></th>\n      <th></th>\n      <th></th>\n      <th></th>\n      <th></th>\n      <th></th>\n    </tr>\n  </thead>\n  <tbody>\n    <tr>\n      <th>2017-04-21</th>\n      <td>902.669983</td>\n      <td>903.650024</td>\n      <td>896.770020</td>\n      <td>898.530029</td>\n      <td>2420500</td>\n      <td>0</td>\n      <td>0</td>\n    </tr>\n    <tr>\n      <th>2017-04-24</th>\n      <td>908.679993</td>\n      <td>909.989990</td>\n      <td>903.820007</td>\n      <td>907.409973</td>\n      <td>3122900</td>\n      <td>0</td>\n      <td>0</td>\n    </tr>\n    <tr>\n      <th>2017-04-25</th>\n      <td>907.039978</td>\n      <td>909.479980</td>\n      <td>903.000000</td>\n      <td>907.619995</td>\n      <td>3380600</td>\n      <td>0</td>\n      <td>0</td>\n    </tr>\n    <tr>\n      <th>2017-04-26</th>\n      <td>910.299988</td>\n      <td>915.750000</td>\n      <td>907.559998</td>\n      <td>909.289978</td>\n      <td>2608900</td>\n      <td>0</td>\n      <td>0</td>\n    </tr>\n    <tr>\n      <th>2017-04-27</th>\n      <td>914.390015</td>\n      <td>921.859985</td>\n      <td>912.109985</td>\n      <td>918.380005</td>\n      <td>5305500</td>\n      <td>0</td>\n      <td>0</td>\n    </tr>\n    <tr>\n      <th>...</th>\n      <td>...</td>\n      <td>...</td>\n      <td>...</td>\n      <td>...</td>\n      <td>...</td>\n      <td>...</td>\n      <td>...</td>\n    </tr>\n    <tr>\n      <th>2022-04-13</th>\n      <td>3000.370117</td>\n      <td>3120.500000</td>\n      <td>2992.000000</td>\n      <td>3110.820068</td>\n      <td>2669500</td>\n      <td>0</td>\n      <td>0</td>\n    </tr>\n    <tr>\n      <th>2022-04-14</th>\n      <td>3107.800049</td>\n      <td>3117.939941</td>\n      <td>3029.439941</td>\n      <td>3034.129883</td>\n      <td>2575200</td>\n      <td>0</td>\n      <td>0</td>\n    </tr>\n    <tr>\n      <th>2022-04-18</th>\n      <td>3030.469971</td>\n      <td>3080.790039</td>\n      <td>3005.010010</td>\n      <td>3055.699951</td>\n      <td>2325700</td>\n      <td>0</td>\n      <td>0</td>\n    </tr>\n    <tr>\n      <th>2022-04-19</th>\n      <td>3040.590088</td>\n      <td>3172.979980</td>\n      <td>3031.010010</td>\n      <td>3162.310059</td>\n      <td>2746300</td>\n      <td>0</td>\n      <td>0</td>\n    </tr>\n    <tr>\n      <th>2022-04-20</th>\n      <td>3152.050049</td>\n      <td>3152.050049</td>\n      <td>3072.070068</td>\n      <td>3079.959961</td>\n      <td>2977400</td>\n      <td>0</td>\n      <td>0</td>\n    </tr>\n  </tbody>\n</table>\n<p>1259 rows × 7 columns</p>\n</div>"
     },
     "execution_count": 5,
     "metadata": {},
     "output_type": "execute_result"
    }
   ],
   "source": [
    "amzn = yf.Ticker(\"AMZN\")\n",
    "amzn_hist = amzn.history(period=\"5y\", auto_adjust=True)\n",
    "amzn_hist = amzn_hist[['Close']]\n",
    "amzn_hist = amzn_hist.rename(columns={\"Close\": \"AMZN\"})\n",
    "amzn.history(period=\"5y\", auto_adjust=True)"
   ],
   "metadata": {
    "collapsed": false,
    "pycharm": {
     "name": "#%%\n"
    }
   }
  },
  {
   "cell_type": "code",
   "execution_count": 6,
   "outputs": [
    {
     "data": {
      "text/plain": "                  Open        High         Low       Close   Volume  \\\nDate                                                                  \n2017-04-21   67.769873   68.105370   67.642930   67.951225  5755700   \n2017-04-24   68.078162   68.368319   67.479710   67.806137  7812500   \n2017-04-25   67.978423   68.159769   67.878681   68.050964  5720400   \n2017-04-26   68.250441   68.703812   68.159768   68.395523  6948500   \n2017-04-27   68.495244   68.640319   68.023735   68.404572  6052200   \n...                ...         ...         ...         ...      ...   \n2022-04-13  153.449997  157.789993  153.350006  157.220001  9761500   \n2022-04-14  157.110001  158.289993  156.429993  157.080002  7452300   \n2022-04-18  156.750000  157.979996  155.210007  155.880005  4890600   \n2022-04-19  156.669998  157.949997  156.039993  157.649994  5285000   \n2022-04-20  158.350006  160.350006  158.289993  159.630005  6605900   \n\n            Dividends  Stock Splits  \nDate                                 \n2017-04-21        0.0             0  \n2017-04-24        0.0             0  \n2017-04-25        0.0             0  \n2017-04-26        0.0             0  \n2017-04-27        0.0             0  \n...               ...           ...  \n2022-04-13        0.0             0  \n2022-04-14        0.0             0  \n2022-04-18        0.0             0  \n2022-04-19        0.0             0  \n2022-04-20        0.0             0  \n\n[1259 rows x 7 columns]",
      "text/html": "<div>\n<style scoped>\n    .dataframe tbody tr th:only-of-type {\n        vertical-align: middle;\n    }\n\n    .dataframe tbody tr th {\n        vertical-align: top;\n    }\n\n    .dataframe thead th {\n        text-align: right;\n    }\n</style>\n<table border=\"1\" class=\"dataframe\">\n  <thead>\n    <tr style=\"text-align: right;\">\n      <th></th>\n      <th>Open</th>\n      <th>High</th>\n      <th>Low</th>\n      <th>Close</th>\n      <th>Volume</th>\n      <th>Dividends</th>\n      <th>Stock Splits</th>\n    </tr>\n    <tr>\n      <th>Date</th>\n      <th></th>\n      <th></th>\n      <th></th>\n      <th></th>\n      <th></th>\n      <th></th>\n      <th></th>\n    </tr>\n  </thead>\n  <tbody>\n    <tr>\n      <th>2017-04-21</th>\n      <td>67.769873</td>\n      <td>68.105370</td>\n      <td>67.642930</td>\n      <td>67.951225</td>\n      <td>5755700</td>\n      <td>0.0</td>\n      <td>0</td>\n    </tr>\n    <tr>\n      <th>2017-04-24</th>\n      <td>68.078162</td>\n      <td>68.368319</td>\n      <td>67.479710</td>\n      <td>67.806137</td>\n      <td>7812500</td>\n      <td>0.0</td>\n      <td>0</td>\n    </tr>\n    <tr>\n      <th>2017-04-25</th>\n      <td>67.978423</td>\n      <td>68.159769</td>\n      <td>67.878681</td>\n      <td>68.050964</td>\n      <td>5720400</td>\n      <td>0.0</td>\n      <td>0</td>\n    </tr>\n    <tr>\n      <th>2017-04-26</th>\n      <td>68.250441</td>\n      <td>68.703812</td>\n      <td>68.159768</td>\n      <td>68.395523</td>\n      <td>6948500</td>\n      <td>0.0</td>\n      <td>0</td>\n    </tr>\n    <tr>\n      <th>2017-04-27</th>\n      <td>68.495244</td>\n      <td>68.640319</td>\n      <td>68.023735</td>\n      <td>68.404572</td>\n      <td>6052200</td>\n      <td>0.0</td>\n      <td>0</td>\n    </tr>\n    <tr>\n      <th>...</th>\n      <td>...</td>\n      <td>...</td>\n      <td>...</td>\n      <td>...</td>\n      <td>...</td>\n      <td>...</td>\n      <td>...</td>\n    </tr>\n    <tr>\n      <th>2022-04-13</th>\n      <td>153.449997</td>\n      <td>157.789993</td>\n      <td>153.350006</td>\n      <td>157.220001</td>\n      <td>9761500</td>\n      <td>0.0</td>\n      <td>0</td>\n    </tr>\n    <tr>\n      <th>2022-04-14</th>\n      <td>157.110001</td>\n      <td>158.289993</td>\n      <td>156.429993</td>\n      <td>157.080002</td>\n      <td>7452300</td>\n      <td>0.0</td>\n      <td>0</td>\n    </tr>\n    <tr>\n      <th>2022-04-18</th>\n      <td>156.750000</td>\n      <td>157.979996</td>\n      <td>155.210007</td>\n      <td>155.880005</td>\n      <td>4890600</td>\n      <td>0.0</td>\n      <td>0</td>\n    </tr>\n    <tr>\n      <th>2022-04-19</th>\n      <td>156.669998</td>\n      <td>157.949997</td>\n      <td>156.039993</td>\n      <td>157.649994</td>\n      <td>5285000</td>\n      <td>0.0</td>\n      <td>0</td>\n    </tr>\n    <tr>\n      <th>2022-04-20</th>\n      <td>158.350006</td>\n      <td>160.350006</td>\n      <td>158.289993</td>\n      <td>159.630005</td>\n      <td>6605900</td>\n      <td>0.0</td>\n      <td>0</td>\n    </tr>\n  </tbody>\n</table>\n<p>1259 rows × 7 columns</p>\n</div>"
     },
     "execution_count": 6,
     "metadata": {},
     "output_type": "execute_result"
    }
   ],
   "source": [
    "wmt = yf.Ticker(\"WMT\")\n",
    "wmt_hist = wmt.history(period=\"5y\", auto_adjust=True)\n",
    "wmt_hist = wmt_hist[['Close']]\n",
    "wmt_hist = wmt_hist.rename(columns={\"Close\": \"WMT\"})\n",
    "wmt.history(period=\"5y\", auto_adjust=True)"
   ],
   "metadata": {
    "collapsed": false,
    "pycharm": {
     "name": "#%%\n"
    }
   }
  },
  {
   "cell_type": "code",
   "execution_count": 7,
   "outputs": [
    {
     "data": {
      "text/plain": "                   AMZN         WMT  log_ret_AMZN  log_ret_WMT\nDate                                                          \n2017-04-21   898.530029   67.951233           NaN          NaN\n2017-04-24   907.409973   67.806145      0.009834    -0.002137\n2017-04-25   907.619995   68.050964      0.000231     0.003604\n2017-04-26   909.289978   68.395523      0.001838     0.005050\n2017-04-27   918.380005   68.404594      0.009947     0.000133\n...                 ...         ...           ...          ...\n2022-04-13  3110.820068  157.220001      0.031038     0.025706\n2022-04-14  3034.129883  157.080002     -0.024962    -0.000891\n2022-04-18  3055.699951  155.880005      0.007084    -0.007669\n2022-04-19  3162.310059  157.649994      0.034294     0.011291\n2022-04-20  3079.959961  159.630005     -0.026386     0.012481\n\n[1259 rows x 4 columns]",
      "text/html": "<div>\n<style scoped>\n    .dataframe tbody tr th:only-of-type {\n        vertical-align: middle;\n    }\n\n    .dataframe tbody tr th {\n        vertical-align: top;\n    }\n\n    .dataframe thead th {\n        text-align: right;\n    }\n</style>\n<table border=\"1\" class=\"dataframe\">\n  <thead>\n    <tr style=\"text-align: right;\">\n      <th></th>\n      <th>AMZN</th>\n      <th>WMT</th>\n      <th>log_ret_AMZN</th>\n      <th>log_ret_WMT</th>\n    </tr>\n    <tr>\n      <th>Date</th>\n      <th></th>\n      <th></th>\n      <th></th>\n      <th></th>\n    </tr>\n  </thead>\n  <tbody>\n    <tr>\n      <th>2017-04-21</th>\n      <td>898.530029</td>\n      <td>67.951233</td>\n      <td>NaN</td>\n      <td>NaN</td>\n    </tr>\n    <tr>\n      <th>2017-04-24</th>\n      <td>907.409973</td>\n      <td>67.806145</td>\n      <td>0.009834</td>\n      <td>-0.002137</td>\n    </tr>\n    <tr>\n      <th>2017-04-25</th>\n      <td>907.619995</td>\n      <td>68.050964</td>\n      <td>0.000231</td>\n      <td>0.003604</td>\n    </tr>\n    <tr>\n      <th>2017-04-26</th>\n      <td>909.289978</td>\n      <td>68.395523</td>\n      <td>0.001838</td>\n      <td>0.005050</td>\n    </tr>\n    <tr>\n      <th>2017-04-27</th>\n      <td>918.380005</td>\n      <td>68.404594</td>\n      <td>0.009947</td>\n      <td>0.000133</td>\n    </tr>\n    <tr>\n      <th>...</th>\n      <td>...</td>\n      <td>...</td>\n      <td>...</td>\n      <td>...</td>\n    </tr>\n    <tr>\n      <th>2022-04-13</th>\n      <td>3110.820068</td>\n      <td>157.220001</td>\n      <td>0.031038</td>\n      <td>0.025706</td>\n    </tr>\n    <tr>\n      <th>2022-04-14</th>\n      <td>3034.129883</td>\n      <td>157.080002</td>\n      <td>-0.024962</td>\n      <td>-0.000891</td>\n    </tr>\n    <tr>\n      <th>2022-04-18</th>\n      <td>3055.699951</td>\n      <td>155.880005</td>\n      <td>0.007084</td>\n      <td>-0.007669</td>\n    </tr>\n    <tr>\n      <th>2022-04-19</th>\n      <td>3162.310059</td>\n      <td>157.649994</td>\n      <td>0.034294</td>\n      <td>0.011291</td>\n    </tr>\n    <tr>\n      <th>2022-04-20</th>\n      <td>3079.959961</td>\n      <td>159.630005</td>\n      <td>-0.026386</td>\n      <td>0.012481</td>\n    </tr>\n  </tbody>\n</table>\n<p>1259 rows × 4 columns</p>\n</div>"
     },
     "execution_count": 7,
     "metadata": {},
     "output_type": "execute_result"
    }
   ],
   "source": [
    "hist = amzn_hist.merge(wmt_hist, how='inner', on='Date')\n",
    "hist['log_ret_AMZN'] = np.log(hist['AMZN']) - np.log(hist['AMZN'].shift(1))\n",
    "hist['log_ret_WMT'] = np.log(hist['WMT']) - np.log(hist['WMT'].shift(1))\n",
    "hist"
   ],
   "metadata": {
    "collapsed": false,
    "pycharm": {
     "name": "#%%\n"
    }
   }
  },
  {
   "cell_type": "code",
   "execution_count": 8,
   "outputs": [
    {
     "data": {
      "text/plain": "            corr_coef\nDate                 \n2017-04-21        NaN\n2017-04-24        NaN\n2017-04-25        NaN\n2017-04-26        NaN\n2017-04-27   0.674695\n...               ...\n2022-04-13   0.820890\n2022-04-14   0.774786\n2022-04-18   0.720575\n2022-04-19   0.717838\n2022-04-20   0.228968\n\n[1259 rows x 1 columns]",
      "text/html": "<div>\n<style scoped>\n    .dataframe tbody tr th:only-of-type {\n        vertical-align: middle;\n    }\n\n    .dataframe tbody tr th {\n        vertical-align: top;\n    }\n\n    .dataframe thead th {\n        text-align: right;\n    }\n</style>\n<table border=\"1\" class=\"dataframe\">\n  <thead>\n    <tr style=\"text-align: right;\">\n      <th></th>\n      <th>corr_coef</th>\n    </tr>\n    <tr>\n      <th>Date</th>\n      <th></th>\n    </tr>\n  </thead>\n  <tbody>\n    <tr>\n      <th>2017-04-21</th>\n      <td>NaN</td>\n    </tr>\n    <tr>\n      <th>2017-04-24</th>\n      <td>NaN</td>\n    </tr>\n    <tr>\n      <th>2017-04-25</th>\n      <td>NaN</td>\n    </tr>\n    <tr>\n      <th>2017-04-26</th>\n      <td>NaN</td>\n    </tr>\n    <tr>\n      <th>2017-04-27</th>\n      <td>0.674695</td>\n    </tr>\n    <tr>\n      <th>...</th>\n      <td>...</td>\n    </tr>\n    <tr>\n      <th>2022-04-13</th>\n      <td>0.820890</td>\n    </tr>\n    <tr>\n      <th>2022-04-14</th>\n      <td>0.774786</td>\n    </tr>\n    <tr>\n      <th>2022-04-18</th>\n      <td>0.720575</td>\n    </tr>\n    <tr>\n      <th>2022-04-19</th>\n      <td>0.717838</td>\n    </tr>\n    <tr>\n      <th>2022-04-20</th>\n      <td>0.228968</td>\n    </tr>\n  </tbody>\n</table>\n<p>1259 rows × 1 columns</p>\n</div>"
     },
     "execution_count": 8,
     "metadata": {},
     "output_type": "execute_result"
    }
   ],
   "source": [
    "corr_hist = hist['AMZN'].rolling(5).corr(hist['WMT'])\n",
    "corr_hist = corr_hist.to_frame(name='corr_coef')\n",
    "corr_hist"
   ],
   "metadata": {
    "collapsed": false,
    "pycharm": {
     "name": "#%%\n"
    }
   }
  },
  {
   "cell_type": "markdown",
   "source": [
    "# Get Position Direction"
   ],
   "metadata": {
    "collapsed": false,
    "pycharm": {
     "name": "#%% md\n"
    }
   }
  },
  {
   "cell_type": "code",
   "execution_count": 6,
   "outputs": [],
   "source": [
    "def get_position_direction(log_returns):\n",
    "    amzn_neg_count = np.sum((log_returns['log_ret_AMZN'].values < 0))\n",
    "    wmt_neg_count = np.sum((log_returns['log_ret_WMT'].values < 0))\n",
    "    amzn_direction = 'LONG' if (amzn_neg_count >= wmt_neg_count) else 'SHORT'\n",
    "    wmt_direction = 'SHORT' if (amzn_direction == 'LONG') else 'LONG'\n",
    "    return {'AMZN': amzn_direction, 'WMT': wmt_direction}"
   ],
   "metadata": {
    "collapsed": false,
    "pycharm": {
     "name": "#%%\n"
    }
   }
  },
  {
   "cell_type": "markdown",
   "source": [
    "# Define Trade"
   ],
   "metadata": {
    "collapsed": false,
    "pycharm": {
     "name": "#%% md\n"
    }
   }
  },
  {
   "cell_type": "code",
   "execution_count": 7,
   "outputs": [
    {
     "name": "stdout",
     "output_type": "stream",
     "text": [
      "CLOSE\n",
      "            log_ret_AMZN  log_ret_WMT\n",
      "Date                                 \n",
      "2017-04-25      0.000231     0.003605\n",
      "2017-04-26      0.001838     0.005050\n",
      "2017-04-27      0.009947     0.000133\n",
      "2017-04-28      0.007172    -0.003452\n",
      "2017-05-01      0.024814     0.000665\n",
      "{'AMZN': 'SHORT', 'WMT': 'LONG', 'trade_date': Timestamp('2017-05-02 00:00:00')}\n"
     ]
    }
   ],
   "source": [
    "def define_trade(corr_hist):\n",
    "    current_pos_status = json.load(open('position_status.json'))['status']\n",
    "    print(current_pos_status)\n",
    "    for index, row in corr_hist.iterrows():\n",
    "        if row['corr_coef'] < 0 and current_pos_status == 'CLOSE':\n",
    "            from_date = index - BDay(4)\n",
    "            to_date = index\n",
    "            slice_hist = hist.loc[from_date: to_date, \"log_ret_AMZN\":\"log_ret_WMT\"]\n",
    "            print(slice_hist)\n",
    "            trade = get_position_direction(slice_hist)\n",
    "            trade['trade_date'] = index + BDay(1)\n",
    "            return trade\n",
    "print(define_trade(corr_hist))"
   ],
   "metadata": {
    "collapsed": false,
    "pycharm": {
     "name": "#%%\n"
    }
   }
  },
  {
   "cell_type": "markdown",
   "source": [
    "# Open Position"
   ],
   "metadata": {
    "collapsed": false,
    "pycharm": {
     "name": "#%% md\n"
    }
   }
  },
  {
   "cell_type": "code",
   "execution_count": 8,
   "outputs": [
    {
     "name": "stdout",
     "output_type": "stream",
     "text": [
      "CLOSE\n",
      "            log_ret_AMZN  log_ret_WMT\n",
      "Date                                 \n",
      "2017-04-25      0.000231     0.003605\n",
      "2017-04-26      0.001838     0.005050\n",
      "2017-04-27      0.009947     0.000133\n",
      "2017-04-28      0.007172    -0.003452\n",
      "2017-05-01      0.024814     0.000665\n"
     ]
    }
   ],
   "source": [
    "trade = define_trade(corr_hist)"
   ],
   "metadata": {
    "collapsed": false,
    "pycharm": {
     "name": "#%%\n"
    }
   }
  }
 ],
 "metadata": {
  "kernelspec": {
   "display_name": "Python 3",
   "language": "python",
   "name": "python3"
  },
  "language_info": {
   "codemirror_mode": {
    "name": "ipython",
    "version": 2
   },
   "file_extension": ".py",
   "mimetype": "text/x-python",
   "name": "python",
   "nbconvert_exporter": "python",
   "pygments_lexer": "ipython2",
   "version": "2.7.6"
  }
 },
 "nbformat": 4,
 "nbformat_minor": 0
}