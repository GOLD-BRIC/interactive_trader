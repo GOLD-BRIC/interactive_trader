{
 "cells": [
  {
   "cell_type": "code",
   "execution_count": 40,
   "metadata": {
    "collapsed": true
   },
   "outputs": [],
   "source": [
    "import os\n",
    "import json\n",
    "import yfinance as yf\n",
    "import pandas as pd\n",
    "import numpy as np\n",
    "from pandas.tseries.offsets import BDay\n",
    "\n",
    "PERIOD = 3\n",
    "LOT = 25000\n",
    "GAIN_CAP = 0.1\n",
    "HOLDING_PERIOD_CAP = 5  #business days\n",
    "#Trip = ENTRY,EXIT\n",
    "#Action = BUY,SELL\n",
    "#Status = FILLED, PENDING, CANCELED, FORCED\n",
    "blotter = pd.DataFrame(\n",
    "    columns=['Date', 'Symbol', 'Trip', 'Action', 'Price', 'Size', 'Status'])"
   ]
  },
  {
   "cell_type": "markdown",
   "source": [
    "# Historical Market Data"
   ],
   "metadata": {
    "collapsed": false,
    "pycharm": {
     "name": "#%% md\n"
    }
   }
  },
  {
   "cell_type": "code",
   "execution_count": 41,
   "outputs": [
    {
     "data": {
      "text/plain": "            wmt_Open  wmt_High  wmt_Low  wmt_Close  wmt_Volume  amzn_Open  \\\nDate                                                                        \n2017-01-03     69.24     69.24    68.05      68.66    10473162     757.92   \n2017-01-04     68.66     69.63    68.60      69.06     7917952     758.39   \n2017-01-05     68.43     69.33    68.12      69.21     7099170     761.55   \n2017-01-06     68.41     68.50    68.01      68.26     9491115     782.36   \n2017-01-09     68.33     68.80    68.32      68.71     8685232     798.00   \n...              ...       ...      ...        ...         ...        ...   \n2022-04-12    154.24    155.40   152.55     153.23     8920400    3073.85   \n2022-04-13    153.45    157.79   153.35     157.22     9761532    3000.37   \n2022-04-14    157.11    158.29   156.43     157.08     7453493    3107.80   \n2022-04-18    156.75    157.98   155.21     155.88     4890605    3030.47   \n2022-04-19    156.67    157.95   156.04     157.65     5284973    3040.59   \n\n            amzn_High  amzn_Low  amzn_Close  amzn_Volume  log_ret_AMZN  \\\nDate                                                                     \n2017-01-03     758.76    747.70      753.67      3521066           NaN   \n2017-01-04     759.68    754.20      757.18      2510526      0.004646   \n2017-01-05     782.40    760.26      780.45      5830068      0.030270   \n2017-01-06     799.44    778.48      795.99      5986234      0.019716   \n2017-01-09     801.77    791.77      796.92      3446109      0.001168   \n...               ...       ...         ...          ...           ...   \n2022-04-12    3101.98   3007.66     3015.75      2758872     -0.002216   \n2022-04-13    3120.50   2992.00     3110.82      2669544      0.031038   \n2022-04-14    3117.94   3029.44     3034.13      2579907     -0.024962   \n2022-04-18    3080.79   3005.01     3055.70      2325676      0.007084   \n2022-04-19    3172.98   3031.01     3162.31      2746321      0.034294   \n\n            log_ret_WMT  corr_coef  \nDate                                \n2017-01-03          NaN        NaN  \n2017-01-04     0.005809        NaN  \n2017-01-05     0.002170   0.790380  \n2017-01-06    -0.013821  -0.707053  \n2017-01-09     0.006571  -0.855904  \n...                 ...        ...  \n2022-04-12    -0.006894   0.986590  \n2022-04-13     0.025706   0.980803  \n2022-04-14    -0.000891   0.672651  \n2022-04-18    -0.007669   0.335919  \n2022-04-19     0.011291   0.634006  \n\n[1333 rows x 13 columns]",
      "text/html": "<div>\n<style scoped>\n    .dataframe tbody tr th:only-of-type {\n        vertical-align: middle;\n    }\n\n    .dataframe tbody tr th {\n        vertical-align: top;\n    }\n\n    .dataframe thead th {\n        text-align: right;\n    }\n</style>\n<table border=\"1\" class=\"dataframe\">\n  <thead>\n    <tr style=\"text-align: right;\">\n      <th></th>\n      <th>wmt_Open</th>\n      <th>wmt_High</th>\n      <th>wmt_Low</th>\n      <th>wmt_Close</th>\n      <th>wmt_Volume</th>\n      <th>amzn_Open</th>\n      <th>amzn_High</th>\n      <th>amzn_Low</th>\n      <th>amzn_Close</th>\n      <th>amzn_Volume</th>\n      <th>log_ret_AMZN</th>\n      <th>log_ret_WMT</th>\n      <th>corr_coef</th>\n    </tr>\n    <tr>\n      <th>Date</th>\n      <th></th>\n      <th></th>\n      <th></th>\n      <th></th>\n      <th></th>\n      <th></th>\n      <th></th>\n      <th></th>\n      <th></th>\n      <th></th>\n      <th></th>\n      <th></th>\n      <th></th>\n    </tr>\n  </thead>\n  <tbody>\n    <tr>\n      <th>2017-01-03</th>\n      <td>69.24</td>\n      <td>69.24</td>\n      <td>68.05</td>\n      <td>68.66</td>\n      <td>10473162</td>\n      <td>757.92</td>\n      <td>758.76</td>\n      <td>747.70</td>\n      <td>753.67</td>\n      <td>3521066</td>\n      <td>NaN</td>\n      <td>NaN</td>\n      <td>NaN</td>\n    </tr>\n    <tr>\n      <th>2017-01-04</th>\n      <td>68.66</td>\n      <td>69.63</td>\n      <td>68.60</td>\n      <td>69.06</td>\n      <td>7917952</td>\n      <td>758.39</td>\n      <td>759.68</td>\n      <td>754.20</td>\n      <td>757.18</td>\n      <td>2510526</td>\n      <td>0.004646</td>\n      <td>0.005809</td>\n      <td>NaN</td>\n    </tr>\n    <tr>\n      <th>2017-01-05</th>\n      <td>68.43</td>\n      <td>69.33</td>\n      <td>68.12</td>\n      <td>69.21</td>\n      <td>7099170</td>\n      <td>761.55</td>\n      <td>782.40</td>\n      <td>760.26</td>\n      <td>780.45</td>\n      <td>5830068</td>\n      <td>0.030270</td>\n      <td>0.002170</td>\n      <td>0.790380</td>\n    </tr>\n    <tr>\n      <th>2017-01-06</th>\n      <td>68.41</td>\n      <td>68.50</td>\n      <td>68.01</td>\n      <td>68.26</td>\n      <td>9491115</td>\n      <td>782.36</td>\n      <td>799.44</td>\n      <td>778.48</td>\n      <td>795.99</td>\n      <td>5986234</td>\n      <td>0.019716</td>\n      <td>-0.013821</td>\n      <td>-0.707053</td>\n    </tr>\n    <tr>\n      <th>2017-01-09</th>\n      <td>68.33</td>\n      <td>68.80</td>\n      <td>68.32</td>\n      <td>68.71</td>\n      <td>8685232</td>\n      <td>798.00</td>\n      <td>801.77</td>\n      <td>791.77</td>\n      <td>796.92</td>\n      <td>3446109</td>\n      <td>0.001168</td>\n      <td>0.006571</td>\n      <td>-0.855904</td>\n    </tr>\n    <tr>\n      <th>...</th>\n      <td>...</td>\n      <td>...</td>\n      <td>...</td>\n      <td>...</td>\n      <td>...</td>\n      <td>...</td>\n      <td>...</td>\n      <td>...</td>\n      <td>...</td>\n      <td>...</td>\n      <td>...</td>\n      <td>...</td>\n      <td>...</td>\n    </tr>\n    <tr>\n      <th>2022-04-12</th>\n      <td>154.24</td>\n      <td>155.40</td>\n      <td>152.55</td>\n      <td>153.23</td>\n      <td>8920400</td>\n      <td>3073.85</td>\n      <td>3101.98</td>\n      <td>3007.66</td>\n      <td>3015.75</td>\n      <td>2758872</td>\n      <td>-0.002216</td>\n      <td>-0.006894</td>\n      <td>0.986590</td>\n    </tr>\n    <tr>\n      <th>2022-04-13</th>\n      <td>153.45</td>\n      <td>157.79</td>\n      <td>153.35</td>\n      <td>157.22</td>\n      <td>9761532</td>\n      <td>3000.37</td>\n      <td>3120.50</td>\n      <td>2992.00</td>\n      <td>3110.82</td>\n      <td>2669544</td>\n      <td>0.031038</td>\n      <td>0.025706</td>\n      <td>0.980803</td>\n    </tr>\n    <tr>\n      <th>2022-04-14</th>\n      <td>157.11</td>\n      <td>158.29</td>\n      <td>156.43</td>\n      <td>157.08</td>\n      <td>7453493</td>\n      <td>3107.80</td>\n      <td>3117.94</td>\n      <td>3029.44</td>\n      <td>3034.13</td>\n      <td>2579907</td>\n      <td>-0.024962</td>\n      <td>-0.000891</td>\n      <td>0.672651</td>\n    </tr>\n    <tr>\n      <th>2022-04-18</th>\n      <td>156.75</td>\n      <td>157.98</td>\n      <td>155.21</td>\n      <td>155.88</td>\n      <td>4890605</td>\n      <td>3030.47</td>\n      <td>3080.79</td>\n      <td>3005.01</td>\n      <td>3055.70</td>\n      <td>2325676</td>\n      <td>0.007084</td>\n      <td>-0.007669</td>\n      <td>0.335919</td>\n    </tr>\n    <tr>\n      <th>2022-04-19</th>\n      <td>156.67</td>\n      <td>157.95</td>\n      <td>156.04</td>\n      <td>157.65</td>\n      <td>5284973</td>\n      <td>3040.59</td>\n      <td>3172.98</td>\n      <td>3031.01</td>\n      <td>3162.31</td>\n      <td>2746321</td>\n      <td>0.034294</td>\n      <td>0.011291</td>\n      <td>0.634006</td>\n    </tr>\n  </tbody>\n</table>\n<p>1333 rows × 13 columns</p>\n</div>"
     },
     "execution_count": 41,
     "metadata": {},
     "output_type": "execute_result"
    }
   ],
   "source": [
    "file_path = os.getenv(\"ITA_DATA_PATH\")\n",
    "hist = pd.read_csv(f'{file_path}\\data.csv', parse_dates=True, index_col='Date')\n",
    "hist = hist.iloc[::-1]\n",
    "hist['log_ret_AMZN'] = np.log(hist['amzn_Close']) - np.log(hist['amzn_Close'].shift(1))\n",
    "hist['log_ret_WMT'] = np.log(hist['wmt_Close']) - np.log(hist['wmt_Close'].shift(1))\n",
    "hist['corr_coef'] = hist['amzn_Close'].rolling(PERIOD).corr(hist['wmt_Close'])\n",
    "hist"
   ],
   "metadata": {
    "collapsed": false,
    "pycharm": {
     "name": "#%%\n"
    }
   }
  },
  {
   "cell_type": "markdown",
   "source": [
    "# Get Position Direction"
   ],
   "metadata": {
    "collapsed": false,
    "pycharm": {
     "name": "#%% md\n"
    }
   }
  },
  {
   "cell_type": "code",
   "execution_count": 42,
   "outputs": [],
   "source": [
    "# This is another logic to decide if we should go long or short\n",
    "# It's only based on the number of negative returns in a period of time (no tie-breaker)\n",
    "def get_position_direction(slice_hist):\n",
    "    amzn_neg_count = np.sum((slice_hist['log_ret_AMZN'].values < 0))\n",
    "    wmt_neg_count = np.sum((slice_hist['log_ret_WMT'].values < 0))\n",
    "    amzn_direction = 'BUY' if (amzn_neg_count >= wmt_neg_count) else 'SELL'\n",
    "    wmt_direction = 'SELL' if (amzn_direction == 'BUY') else 'BUY'\n",
    "    return {'AMZN': amzn_direction, 'WMT': wmt_direction}"
   ],
   "metadata": {
    "collapsed": false,
    "pycharm": {
     "name": "#%%\n"
    }
   }
  },
  {
   "cell_type": "code",
   "execution_count": 43,
   "outputs": [],
   "source": [
    "# This logic decides if we should go long or short\n",
    "# It's based on the volume of stocks that had negative returns (it's tie-breaker)\n",
    "def get_position_direction2(slice_hist):\n",
    "    amzn_total_volume = slice_hist['amzn_Volume'].sum()\n",
    "    amz_negative_volume = np.where(slice_hist['log_ret_AMZN'] < 0, slice_hist['amzn_Volume'], 0).sum()\n",
    "    amz_negative_pct = amz_negative_volume / amzn_total_volume\n",
    "\n",
    "    wmt_total_volume = slice_hist['wmt_Volume'].sum()\n",
    "    wmt_negative_volume = np.where(slice_hist['log_ret_WMT'] < 0, slice_hist['wmt_Volume'], 0).sum()\n",
    "    wmt_negative_pct = wmt_negative_volume / wmt_total_volume\n",
    "\n",
    "    amzn_direction = 'BUY' if (amz_negative_pct >= wmt_negative_pct) else 'SELL'\n",
    "    wmt_direction = 'SELL' if (amzn_direction == 'BUY') else 'BUY'\n",
    "\n",
    "    return {'AMZN': amzn_direction, 'WMT': wmt_direction}"
   ],
   "metadata": {
    "collapsed": false,
    "pycharm": {
     "name": "#%%\n"
    }
   }
  },
  {
   "cell_type": "markdown",
   "source": [
    "# Create Entry Trades"
   ],
   "metadata": {
    "collapsed": false,
    "pycharm": {
     "name": "#%% md\n"
    }
   }
  },
  {
   "cell_type": "code",
   "execution_count": 44,
   "outputs": [],
   "source": [
    "def create_entry_trades(biz_date):\n",
    "    from_date = biz_date - BDay(PERIOD - 1)\n",
    "    to_date = biz_date\n",
    "    slice_hist = hist.loc[from_date: to_date, :]\n",
    "\n",
    "    trade_date = hist[hist.index > biz_date].index[0]  #get next date\n",
    "    pos_direction = get_position_direction2(slice_hist)\n",
    "    amzn_open_price = hist.loc[trade_date]['amzn_Open']\n",
    "    amzn_size = LOT / amzn_open_price\n",
    "    wmt_open_price = hist.loc[trade_date]['wmt_Open']\n",
    "    wmt_size = LOT / wmt_open_price\n",
    "\n",
    "    amzn_entry_trade = {\n",
    "        \"Date\": trade_date,\n",
    "        \"Symbol\": 'AMZN',\n",
    "        \"Trip\": 'ENTRY',\n",
    "        \"Action\": pos_direction['AMZN'],\n",
    "        \"Price\": amzn_open_price,\n",
    "        \"Size\": round(amzn_size, 4),  #rounding based on IB's minimum fractional size\n",
    "        \"Status\": 'FILLED'\n",
    "    }\n",
    "    wmt_entry_trade = {\n",
    "        \"Date\": trade_date,\n",
    "        \"Symbol\": 'WMT',\n",
    "        \"Trip\": 'ENTRY',\n",
    "        \"Action\": pos_direction['WMT'],\n",
    "        \"Price\": wmt_open_price,\n",
    "        \"Size\": round(wmt_size, 4),\n",
    "        \"Status\": 'FILLED'\n",
    "    }\n",
    "    return pd.DataFrame([amzn_entry_trade, wmt_entry_trade])"
   ],
   "metadata": {
    "collapsed": false,
    "pycharm": {
     "name": "#%%\n"
    }
   }
  },
  {
   "cell_type": "markdown",
   "source": [
    "# Create Exit Trades"
   ],
   "metadata": {
    "collapsed": false,
    "pycharm": {
     "name": "#%% md\n"
    }
   }
  },
  {
   "cell_type": "code",
   "execution_count": 45,
   "outputs": [],
   "source": [
    "#The exit trades are LMT orders created right after entry trades with \"Date\" as the expiration date\n",
    "def create_exit_trade(entry_trades_lcl, symbol):\n",
    "    entry_data = entry_trades_lcl[entry_trades['Symbol'] == symbol].reset_index()\n",
    "    entry_date = entry_data.at[0, 'Date']\n",
    "    exit_date = entry_date + BDay(HOLDING_PERIOD_CAP)\n",
    "\n",
    "    entry_action = entry_data.at[0, 'Action']\n",
    "    exit_action = 'SELL' if entry_action == 'BUY' else 'BUY'\n",
    "\n",
    "    entry_price = entry_data.at[0, 'Price']\n",
    "    exit_price = None\n",
    "    if exit_action == 'SELL':\n",
    "        exit_price = entry_price * (1 + GAIN_CAP)\n",
    "    else:\n",
    "        exit_price = entry_price * (1 - GAIN_CAP)\n",
    "\n",
    "    exit_size = entry_data.at[0, 'Size']\n",
    "\n",
    "    return {\n",
    "        \"Date\": exit_date,\n",
    "        \"Symbol\": symbol,\n",
    "        \"Trip\": 'EXIT',\n",
    "        \"Action\": exit_action,\n",
    "        \"Price\": round(exit_price, 2),\n",
    "        \"Size\": exit_size,\n",
    "        \"Status\": 'PENDING'\n",
    "    }"
   ],
   "metadata": {
    "collapsed": false,
    "pycharm": {
     "name": "#%%\n"
    }
   }
  },
  {
   "cell_type": "code",
   "execution_count": 46,
   "outputs": [],
   "source": [
    "def create_exit_trades(entry_trades_lcl):\n",
    "    amzn_exit_trade = create_exit_trade(entry_trades_lcl, 'AMZN')\n",
    "    wmt_exit_trade = create_exit_trade(entry_trades_lcl, 'WMT')\n",
    "    return pd.DataFrame([amzn_exit_trade, wmt_exit_trade])"
   ],
   "metadata": {
    "collapsed": false,
    "pycharm": {
     "name": "#%%\n"
    }
   }
  },
  {
   "cell_type": "code",
   "execution_count": 47,
   "outputs": [],
   "source": [
    "# The forced trades are MKT orders created when the exit trades are not filled within the holding period cap.\n",
    "# It uses the Close Price of the next day following the exit trade's date\n",
    "def create_forced_trade(biz_date, symbol, action, size, market_data):\n",
    "    column_prefix = symbol.lower()\n",
    "    close_price_column_name = f\"{column_prefix}_Close\"\n",
    "    return {\n",
    "        \"Date\": biz_date,\n",
    "        \"Symbol\": symbol,\n",
    "        \"Trip\": 'EXIT',\n",
    "        \"Action\": action,\n",
    "        \"Price\": market_data[close_price_column_name],\n",
    "        \"Size\": size,\n",
    "        \"Status\": 'FORCED'\n",
    "    }"
   ],
   "metadata": {
    "collapsed": false,
    "pycharm": {
     "name": "#%%\n"
    }
   }
  },
  {
   "cell_type": "code",
   "execution_count": 48,
   "outputs": [],
   "source": [
    "def should_force_close_position(position, biz_date):\n",
    "    if position['Date'] < biz_date:\n",
    "        return True"
   ],
   "metadata": {
    "collapsed": false,
    "pycharm": {
     "name": "#%%\n"
    }
   }
  },
  {
   "cell_type": "code",
   "execution_count": 49,
   "outputs": [],
   "source": [
    "def should_close_position(position, biz_date):\n",
    "    column_prefix = position['Symbol'].lower()\n",
    "    high_price_column_name = f\"{column_prefix}_High\"\n",
    "    low_price_column_name = f\"{column_prefix}_Low\"\n",
    "    if position['Action'] == 'SELL' and hist.loc[biz_date][high_price_column_name] >= position['Price']:\n",
    "        return True\n",
    "    if position['Action'] == 'BUY' and hist.loc[biz_date][low_price_column_name] <= position['Price']:\n",
    "        return True\n",
    "    return False"
   ],
   "metadata": {
    "collapsed": false,
    "pycharm": {
     "name": "#%%\n"
    }
   }
  },
  {
   "cell_type": "markdown",
   "source": [
    "# Run Back Test"
   ],
   "metadata": {
    "collapsed": false,
    "pycharm": {
     "name": "#%% md\n"
    }
   }
  },
  {
   "cell_type": "code",
   "execution_count": 50,
   "outputs": [],
   "source": [
    "for index, today_market_data in hist.iterrows():\n",
    "    business_date = index\n",
    "    pending_exit_trades = blotter[(blotter['Trip'] == 'EXIT') & (blotter['Status'] == 'PENDING')]\n",
    "    current_position_status = 'CLOSED' if  pending_exit_trades.empty else 'OPEN'\n",
    "\n",
    "    if current_position_status == 'CLOSED' and today_market_data['corr_coef'] < 0:\n",
    "        entry_trades = create_entry_trades(business_date)\n",
    "        blotter = pd.concat([blotter, entry_trades], ignore_index=True)\n",
    "\n",
    "        exit_trades = create_exit_trades(entry_trades)\n",
    "        blotter = pd.concat([blotter, exit_trades], ignore_index=True)\n",
    "    elif current_position_status == 'OPEN':\n",
    "        for i, pending_trade in pending_exit_trades.iterrows():\n",
    "            if should_force_close_position(pending_trade, business_date):\n",
    "                blotter.at[i, 'Status'] = 'CANCELED'\n",
    "                forced_trade = create_forced_trade(business_date,\n",
    "                                                   pending_trade['Symbol'],\n",
    "                                                   pending_trade['Action'],\n",
    "                                                   pending_trade['Size'],\n",
    "                                                   today_market_data)\n",
    "                blotter = pd.concat([blotter, pd.DataFrame([forced_trade])], ignore_index=True)\n",
    "            elif should_close_position(pending_trade, business_date):\n",
    "                blotter.at[i, 'Status'] = 'FILLED'"
   ],
   "metadata": {
    "collapsed": false,
    "pycharm": {
     "name": "#%%\n"
    }
   }
  },
  {
   "cell_type": "markdown",
   "source": [
    "# Result & Stats"
   ],
   "metadata": {
    "collapsed": false,
    "pycharm": {
     "name": "#%% md\n"
    }
   }
  },
  {
   "cell_type": "code",
   "execution_count": 53,
   "outputs": [
    {
     "data": {
      "text/plain": "                    Date Symbol   Trip Action    Price      Size    Status\n0    2017-01-09 00:00:00   AMZN  ENTRY   SELL    798.0   31.3283    FILLED\n1    2017-01-09 00:00:00    WMT  ENTRY    BUY    68.33  365.8715    FILLED\n2    2017-01-16 00:00:00   AMZN   EXIT    BUY    718.2   31.3283  CANCELED\n3    2017-01-16 00:00:00    WMT   EXIT   SELL    75.16  365.8715  CANCELED\n4    2017-01-17 00:00:00   AMZN   EXIT    BUY   809.72   31.3283    FORCED\n..                   ...    ...    ...    ...      ...       ...       ...\n778  2022-03-31 00:00:00    WMT  ENTRY   SELL   148.79   168.022    FILLED\n779  2022-04-07 00:00:00   AMZN   EXIT   SELL  3661.79      7.51  CANCELED\n780  2022-04-07 00:00:00    WMT   EXIT    BUY   133.91   168.022  CANCELED\n781  2022-04-08 00:00:00   AMZN   EXIT   SELL  3089.21      7.51    FORCED\n782  2022-04-08 00:00:00    WMT   EXIT    BUY   157.41   168.022    FORCED\n\n[783 rows x 7 columns]",
      "text/html": "<div>\n<style scoped>\n    .dataframe tbody tr th:only-of-type {\n        vertical-align: middle;\n    }\n\n    .dataframe tbody tr th {\n        vertical-align: top;\n    }\n\n    .dataframe thead th {\n        text-align: right;\n    }\n</style>\n<table border=\"1\" class=\"dataframe\">\n  <thead>\n    <tr style=\"text-align: right;\">\n      <th></th>\n      <th>Date</th>\n      <th>Symbol</th>\n      <th>Trip</th>\n      <th>Action</th>\n      <th>Price</th>\n      <th>Size</th>\n      <th>Status</th>\n    </tr>\n  </thead>\n  <tbody>\n    <tr>\n      <th>0</th>\n      <td>2017-01-09 00:00:00</td>\n      <td>AMZN</td>\n      <td>ENTRY</td>\n      <td>SELL</td>\n      <td>798.0</td>\n      <td>31.3283</td>\n      <td>FILLED</td>\n    </tr>\n    <tr>\n      <th>1</th>\n      <td>2017-01-09 00:00:00</td>\n      <td>WMT</td>\n      <td>ENTRY</td>\n      <td>BUY</td>\n      <td>68.33</td>\n      <td>365.8715</td>\n      <td>FILLED</td>\n    </tr>\n    <tr>\n      <th>2</th>\n      <td>2017-01-16 00:00:00</td>\n      <td>AMZN</td>\n      <td>EXIT</td>\n      <td>BUY</td>\n      <td>718.2</td>\n      <td>31.3283</td>\n      <td>CANCELED</td>\n    </tr>\n    <tr>\n      <th>3</th>\n      <td>2017-01-16 00:00:00</td>\n      <td>WMT</td>\n      <td>EXIT</td>\n      <td>SELL</td>\n      <td>75.16</td>\n      <td>365.8715</td>\n      <td>CANCELED</td>\n    </tr>\n    <tr>\n      <th>4</th>\n      <td>2017-01-17 00:00:00</td>\n      <td>AMZN</td>\n      <td>EXIT</td>\n      <td>BUY</td>\n      <td>809.72</td>\n      <td>31.3283</td>\n      <td>FORCED</td>\n    </tr>\n    <tr>\n      <th>...</th>\n      <td>...</td>\n      <td>...</td>\n      <td>...</td>\n      <td>...</td>\n      <td>...</td>\n      <td>...</td>\n      <td>...</td>\n    </tr>\n    <tr>\n      <th>778</th>\n      <td>2022-03-31 00:00:00</td>\n      <td>WMT</td>\n      <td>ENTRY</td>\n      <td>SELL</td>\n      <td>148.79</td>\n      <td>168.022</td>\n      <td>FILLED</td>\n    </tr>\n    <tr>\n      <th>779</th>\n      <td>2022-04-07 00:00:00</td>\n      <td>AMZN</td>\n      <td>EXIT</td>\n      <td>SELL</td>\n      <td>3661.79</td>\n      <td>7.51</td>\n      <td>CANCELED</td>\n    </tr>\n    <tr>\n      <th>780</th>\n      <td>2022-04-07 00:00:00</td>\n      <td>WMT</td>\n      <td>EXIT</td>\n      <td>BUY</td>\n      <td>133.91</td>\n      <td>168.022</td>\n      <td>CANCELED</td>\n    </tr>\n    <tr>\n      <th>781</th>\n      <td>2022-04-08 00:00:00</td>\n      <td>AMZN</td>\n      <td>EXIT</td>\n      <td>SELL</td>\n      <td>3089.21</td>\n      <td>7.51</td>\n      <td>FORCED</td>\n    </tr>\n    <tr>\n      <th>782</th>\n      <td>2022-04-08 00:00:00</td>\n      <td>WMT</td>\n      <td>EXIT</td>\n      <td>BUY</td>\n      <td>157.41</td>\n      <td>168.022</td>\n      <td>FORCED</td>\n    </tr>\n  </tbody>\n</table>\n<p>783 rows × 7 columns</p>\n</div>"
     },
     "execution_count": 53,
     "metadata": {},
     "output_type": "execute_result"
    }
   ],
   "source": [
    "blotter"
   ],
   "metadata": {
    "collapsed": false,
    "pycharm": {
     "name": "#%%\n"
    }
   }
  },
  {
   "cell_type": "code",
   "execution_count": 52,
   "outputs": [
    {
     "name": "stdout",
     "output_type": "stream",
     "text": [
      "Entry Orders: 264\n",
      "Filled Exit Orders: 9\n",
      "Forced Exit Orders: 255\n",
      "\n",
      "******  AMZN  ******\n",
      "Total Sales: $3,318,757.29\n",
      "Total Purchases: $3,302,575.22\n",
      "Gain or Loss: $16,182.06\n",
      "\n",
      "******  WMT  ******\n",
      "Total Sales: $3,308,183.56\n",
      "Total Purchases: $3,301,093.78\n",
      "Gain or Loss: $7,089.78\n",
      "\n",
      "Years: 5.29\n",
      "Total Gain or Loss: $23,271.84\n",
      "Total Gain or Loss Per Year: $4,399.21\n"
     ]
    }
   ],
   "source": [
    "def calculate_gain_loss(symbol):\n",
    "    results = blotter[(blotter['Status'] != 'CANCELED') & (blotter['Symbol'] == symbol)].copy()\n",
    "    results['Total_Price'] = results['Price'] * results['Size']\n",
    "    sells = results[results['Action'] == 'SELL'].copy()\n",
    "    buys = results[results['Action'] == 'BUY'].copy()\n",
    "\n",
    "    total_sales = sells['Total_Price'].sum()\n",
    "    total_purchases = buys['Total_Price'].sum()\n",
    "    gain_loss = total_sales - total_purchases\n",
    "\n",
    "    print(f\"\\n******  {symbol}  ******\")\n",
    "    print(f'Total Sales: ${round(total_sales, 2):,}')\n",
    "    print(f'Total Purchases: ${round(total_purchases, 2):,}')\n",
    "    print(f'Gain or Loss: ${round(gain_loss, 2):,}')\n",
    "    return gain_loss\n",
    "\n",
    "\n",
    "print(f\"Entry Orders: {blotter[(blotter['Trip'] == 'ENTRY') & (blotter['Status'] == 'FILLED')].shape[0]}\")\n",
    "print(f\"Filled Exit Orders: {blotter[(blotter['Trip'] == 'EXIT') & (blotter['Status'] == 'FILLED')].shape[0]}\")\n",
    "print(f\"Forced Exit Orders: {blotter[(blotter['Trip'] == 'EXIT') & (blotter['Status'] == 'FORCED')].shape[0]}\")\n",
    "amz_gain_loss = calculate_gain_loss('AMZN')\n",
    "wmt_gain_loss = calculate_gain_loss('WMT')\n",
    "total_gain_loss = amz_gain_loss + wmt_gain_loss\n",
    "time_period = hist.last_valid_index() - hist.first_valid_index()\n",
    "years = round(time_period.days / 365.2425, 2)\n",
    "total_gain_loss_per_year = total_gain_loss / years\n",
    "print(f\"\\nYears: {years}\")\n",
    "print(f'Total Gain or Loss: ${round(total_gain_loss, 2):,}')\n",
    "print(f\"Total Gain or Loss Per Year: ${round(total_gain_loss_per_year, 2):,}\")"
   ],
   "metadata": {
    "collapsed": false,
    "pycharm": {
     "name": "#%%\n"
    }
   }
  }
 ],
 "metadata": {
  "kernelspec": {
   "display_name": "Python 3",
   "language": "python",
   "name": "python3"
  },
  "language_info": {
   "codemirror_mode": {
    "name": "ipython",
    "version": 2
   },
   "file_extension": ".py",
   "mimetype": "text/x-python",
   "name": "python",
   "nbconvert_exporter": "python",
   "pygments_lexer": "ipython2",
   "version": "2.7.6"
  }
 },
 "nbformat": 4,
 "nbformat_minor": 0
}